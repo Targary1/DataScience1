{
 "cells": [
  {
   "cell_type": "markdown",
   "source": [
    "# Final Project Data Science 1 by Luc Oswald"
   ],
   "metadata": {
    "collapsed": false
   }
  },
  {
   "cell_type": "markdown",
   "source": [
    "## Investigation of properties affecting Concrete Compressive Strength"
   ],
   "metadata": {
    "collapsed": false
   }
  },
  {
   "cell_type": "markdown",
   "source": [
    "### 1. Introduction"
   ],
   "metadata": {
    "collapsed": false
   }
  },
  {
   "cell_type": "markdown",
   "source": [
    "1. Objective:"
   ],
   "metadata": {
    "collapsed": false
   }
  },
  {
   "cell_type": "code",
   "execution_count": 2,
   "outputs": [],
   "source": [],
   "metadata": {
    "collapsed": false,
    "ExecuteTime": {
     "end_time": "2024-07-12T15:34:46.639960Z",
     "start_time": "2024-07-12T15:34:46.637925Z"
    }
   }
  },
  {
   "cell_type": "markdown",
   "source": [
    "2. Dataset introduction:"
   ],
   "metadata": {
    "collapsed": false
   }
  },
  {
   "cell_type": "code",
   "execution_count": 47,
   "outputs": [
    {
     "data": {
      "text/plain": "      Cement  Blast Furnace Slag  Fly Ash  Water  Superplasticizer  \\\n0      540.0                 0.0      0.0  162.0               2.5   \n1      540.0                 0.0      0.0  162.0               2.5   \n2      332.5               142.5      0.0  228.0               0.0   \n3      332.5               142.5      0.0  228.0               0.0   \n4      198.6               132.4      0.0  192.0               0.0   \n...      ...                 ...      ...    ...               ...   \n1025   276.4               116.0     90.3  179.6               8.9   \n1026   322.2                 0.0    115.6  196.0              10.4   \n1027   148.5               139.4    108.6  192.7               6.1   \n1028   159.1               186.7      0.0  175.6              11.3   \n1029   260.9               100.5     78.3  200.6               8.6   \n\n      Coarse Aggregate  Fine Aggregate  Age  Concrete compressive strength  \n0               1040.0           676.0   28                          79.99  \n1               1055.0           676.0   28                          61.89  \n2                932.0           594.0  270                          40.27  \n3                932.0           594.0  365                          41.05  \n4                978.4           825.5  360                          44.30  \n...                ...             ...  ...                            ...  \n1025             870.1           768.3   28                          44.28  \n1026             817.9           813.4   28                          31.18  \n1027             892.4           780.0   28                          23.70  \n1028             989.6           788.9   28                          32.77  \n1029             864.5           761.5   28                          32.40  \n\n[1030 rows x 9 columns]",
      "text/html": "<div>\n<style scoped>\n    .dataframe tbody tr th:only-of-type {\n        vertical-align: middle;\n    }\n\n    .dataframe tbody tr th {\n        vertical-align: top;\n    }\n\n    .dataframe thead th {\n        text-align: right;\n    }\n</style>\n<table border=\"1\" class=\"dataframe\">\n  <thead>\n    <tr style=\"text-align: right;\">\n      <th></th>\n      <th>Cement</th>\n      <th>Blast Furnace Slag</th>\n      <th>Fly Ash</th>\n      <th>Water</th>\n      <th>Superplasticizer</th>\n      <th>Coarse Aggregate</th>\n      <th>Fine Aggregate</th>\n      <th>Age</th>\n      <th>Concrete compressive strength</th>\n    </tr>\n  </thead>\n  <tbody>\n    <tr>\n      <th>0</th>\n      <td>540.0</td>\n      <td>0.0</td>\n      <td>0.0</td>\n      <td>162.0</td>\n      <td>2.5</td>\n      <td>1040.0</td>\n      <td>676.0</td>\n      <td>28</td>\n      <td>79.99</td>\n    </tr>\n    <tr>\n      <th>1</th>\n      <td>540.0</td>\n      <td>0.0</td>\n      <td>0.0</td>\n      <td>162.0</td>\n      <td>2.5</td>\n      <td>1055.0</td>\n      <td>676.0</td>\n      <td>28</td>\n      <td>61.89</td>\n    </tr>\n    <tr>\n      <th>2</th>\n      <td>332.5</td>\n      <td>142.5</td>\n      <td>0.0</td>\n      <td>228.0</td>\n      <td>0.0</td>\n      <td>932.0</td>\n      <td>594.0</td>\n      <td>270</td>\n      <td>40.27</td>\n    </tr>\n    <tr>\n      <th>3</th>\n      <td>332.5</td>\n      <td>142.5</td>\n      <td>0.0</td>\n      <td>228.0</td>\n      <td>0.0</td>\n      <td>932.0</td>\n      <td>594.0</td>\n      <td>365</td>\n      <td>41.05</td>\n    </tr>\n    <tr>\n      <th>4</th>\n      <td>198.6</td>\n      <td>132.4</td>\n      <td>0.0</td>\n      <td>192.0</td>\n      <td>0.0</td>\n      <td>978.4</td>\n      <td>825.5</td>\n      <td>360</td>\n      <td>44.30</td>\n    </tr>\n    <tr>\n      <th>...</th>\n      <td>...</td>\n      <td>...</td>\n      <td>...</td>\n      <td>...</td>\n      <td>...</td>\n      <td>...</td>\n      <td>...</td>\n      <td>...</td>\n      <td>...</td>\n    </tr>\n    <tr>\n      <th>1025</th>\n      <td>276.4</td>\n      <td>116.0</td>\n      <td>90.3</td>\n      <td>179.6</td>\n      <td>8.9</td>\n      <td>870.1</td>\n      <td>768.3</td>\n      <td>28</td>\n      <td>44.28</td>\n    </tr>\n    <tr>\n      <th>1026</th>\n      <td>322.2</td>\n      <td>0.0</td>\n      <td>115.6</td>\n      <td>196.0</td>\n      <td>10.4</td>\n      <td>817.9</td>\n      <td>813.4</td>\n      <td>28</td>\n      <td>31.18</td>\n    </tr>\n    <tr>\n      <th>1027</th>\n      <td>148.5</td>\n      <td>139.4</td>\n      <td>108.6</td>\n      <td>192.7</td>\n      <td>6.1</td>\n      <td>892.4</td>\n      <td>780.0</td>\n      <td>28</td>\n      <td>23.70</td>\n    </tr>\n    <tr>\n      <th>1028</th>\n      <td>159.1</td>\n      <td>186.7</td>\n      <td>0.0</td>\n      <td>175.6</td>\n      <td>11.3</td>\n      <td>989.6</td>\n      <td>788.9</td>\n      <td>28</td>\n      <td>32.77</td>\n    </tr>\n    <tr>\n      <th>1029</th>\n      <td>260.9</td>\n      <td>100.5</td>\n      <td>78.3</td>\n      <td>200.6</td>\n      <td>8.6</td>\n      <td>864.5</td>\n      <td>761.5</td>\n      <td>28</td>\n      <td>32.40</td>\n    </tr>\n  </tbody>\n</table>\n<p>1030 rows × 9 columns</p>\n</div>"
     },
     "execution_count": 47,
     "metadata": {},
     "output_type": "execute_result"
    }
   ],
   "source": [
    "from ucimlrepo import fetch_ucirepo\n",
    "import pandas as pd\n",
    "\n",
    "# fetch dataset\n",
    "concrete_compressive_strength = fetch_ucirepo(id=165)\n",
    "\n",
    "# data (as pandas dataframes)\n",
    "X = concrete_compressive_strength.data.features\n",
    "y = concrete_compressive_strength.data.targets\n",
    "#concrete_compressive_strength = pd.concat((X,y), axis=1)\n",
    "concrete_compressive_strength = concrete_compressive_strength.data.original\n",
    "\n",
    "# metadata\n",
    "#print(concrete_compressive_strength.metadata.additional_info.summary)\n",
    "\n",
    "# variable information\n",
    "#print(concrete_compressive_strength.variables)\n",
    "\n",
    "#print(concrete_compressive_strength.data)\n",
    "concrete_compressive_strength"
   ],
   "metadata": {
    "collapsed": false,
    "ExecuteTime": {
     "end_time": "2024-07-12T16:39:14.641143Z",
     "start_time": "2024-07-12T16:39:12.534921Z"
    }
   }
  },
  {
   "cell_type": "markdown",
   "source": [
    "3. Problem Statement:"
   ],
   "metadata": {
    "collapsed": false
   }
  },
  {
   "cell_type": "markdown",
   "source": [
    "### 2. Preprocessing"
   ],
   "metadata": {
    "collapsed": false
   }
  },
  {
   "cell_type": "code",
   "execution_count": 21,
   "outputs": [
    {
     "data": {
      "text/plain": "   Cement  Blast Furnace Slag  Fly Ash  Water  Superplasticizer  \\\n0   540.0                 0.0      0.0  162.0               2.5   \n1   540.0                 0.0      0.0  162.0               2.5   \n2   332.5               142.5      0.0  228.0               0.0   \n3   332.5               142.5      0.0  228.0               0.0   \n4   198.6               132.4      0.0  192.0               0.0   \n\n   Coarse Aggregate  Fine Aggregate  Age  \n0            1040.0           676.0   28  \n1            1055.0           676.0   28  \n2             932.0           594.0  270  \n3             932.0           594.0  365  \n4             978.4           825.5  360  ",
      "text/html": "<div>\n<style scoped>\n    .dataframe tbody tr th:only-of-type {\n        vertical-align: middle;\n    }\n\n    .dataframe tbody tr th {\n        vertical-align: top;\n    }\n\n    .dataframe thead th {\n        text-align: right;\n    }\n</style>\n<table border=\"1\" class=\"dataframe\">\n  <thead>\n    <tr style=\"text-align: right;\">\n      <th></th>\n      <th>Cement</th>\n      <th>Blast Furnace Slag</th>\n      <th>Fly Ash</th>\n      <th>Water</th>\n      <th>Superplasticizer</th>\n      <th>Coarse Aggregate</th>\n      <th>Fine Aggregate</th>\n      <th>Age</th>\n    </tr>\n  </thead>\n  <tbody>\n    <tr>\n      <th>0</th>\n      <td>540.0</td>\n      <td>0.0</td>\n      <td>0.0</td>\n      <td>162.0</td>\n      <td>2.5</td>\n      <td>1040.0</td>\n      <td>676.0</td>\n      <td>28</td>\n    </tr>\n    <tr>\n      <th>1</th>\n      <td>540.0</td>\n      <td>0.0</td>\n      <td>0.0</td>\n      <td>162.0</td>\n      <td>2.5</td>\n      <td>1055.0</td>\n      <td>676.0</td>\n      <td>28</td>\n    </tr>\n    <tr>\n      <th>2</th>\n      <td>332.5</td>\n      <td>142.5</td>\n      <td>0.0</td>\n      <td>228.0</td>\n      <td>0.0</td>\n      <td>932.0</td>\n      <td>594.0</td>\n      <td>270</td>\n    </tr>\n    <tr>\n      <th>3</th>\n      <td>332.5</td>\n      <td>142.5</td>\n      <td>0.0</td>\n      <td>228.0</td>\n      <td>0.0</td>\n      <td>932.0</td>\n      <td>594.0</td>\n      <td>365</td>\n    </tr>\n    <tr>\n      <th>4</th>\n      <td>198.6</td>\n      <td>132.4</td>\n      <td>0.0</td>\n      <td>192.0</td>\n      <td>0.0</td>\n      <td>978.4</td>\n      <td>825.5</td>\n      <td>360</td>\n    </tr>\n  </tbody>\n</table>\n</div>"
     },
     "execution_count": 21,
     "metadata": {},
     "output_type": "execute_result"
    }
   ],
   "source": [
    "X.head(5)"
   ],
   "metadata": {
    "collapsed": false,
    "ExecuteTime": {
     "end_time": "2024-07-12T15:47:51.227642Z",
     "start_time": "2024-07-12T15:47:51.224914Z"
    }
   }
  },
  {
   "cell_type": "code",
   "execution_count": 13,
   "outputs": [
    {
     "data": {
      "text/plain": "      level_0  Cement  Blast_Furnace_Slag  Fly_Ash  Water  Superplasticizer  \\\n0           0   307.0                 0.0      0.0  193.0               0.0   \n7           7   304.0                76.0      0.0  228.0               0.0   \n8           8   380.0                 0.0      0.0  228.0               0.0   \n3           3   236.0                 0.0      0.0  193.0               0.0   \n4           4   237.5               237.5      0.0  228.0               0.0   \n...       ...     ...                 ...      ...    ...               ...   \n1024     1024   166.1                 0.0    163.3  176.5               4.5   \n961       961   251.4                 0.0    118.3  188.5               5.8   \n1026     1026   236.0                 0.0      0.0  194.0               0.0   \n1028     1028   385.0                 0.0      0.0  186.0               0.0   \n1029     1029   500.0                 0.0      0.0  200.0               0.0   \n\n      Coarse_Aggregate  Fine_Aggregate  Age  \n0                968.0           812.0  365  \n7                932.0           670.0  365  \n8                932.0           670.0  365  \n3                968.0           885.0  365  \n4                932.0           594.0  365  \n...                ...             ...  ...  \n1024            1058.6           780.1    3  \n961             1028.4           757.7    3  \n1026             968.0           885.0    3  \n1028             966.0           763.0    1  \n1029            1125.0           613.0    1  \n\n[1030 rows x 9 columns]",
      "text/html": "<div>\n<style scoped>\n    .dataframe tbody tr th:only-of-type {\n        vertical-align: middle;\n    }\n\n    .dataframe tbody tr th {\n        vertical-align: top;\n    }\n\n    .dataframe thead th {\n        text-align: right;\n    }\n</style>\n<table border=\"1\" class=\"dataframe\">\n  <thead>\n    <tr style=\"text-align: right;\">\n      <th></th>\n      <th>level_0</th>\n      <th>Cement</th>\n      <th>Blast_Furnace_Slag</th>\n      <th>Fly_Ash</th>\n      <th>Water</th>\n      <th>Superplasticizer</th>\n      <th>Coarse_Aggregate</th>\n      <th>Fine_Aggregate</th>\n      <th>Age</th>\n    </tr>\n  </thead>\n  <tbody>\n    <tr>\n      <th>0</th>\n      <td>0</td>\n      <td>307.0</td>\n      <td>0.0</td>\n      <td>0.0</td>\n      <td>193.0</td>\n      <td>0.0</td>\n      <td>968.0</td>\n      <td>812.0</td>\n      <td>365</td>\n    </tr>\n    <tr>\n      <th>7</th>\n      <td>7</td>\n      <td>304.0</td>\n      <td>76.0</td>\n      <td>0.0</td>\n      <td>228.0</td>\n      <td>0.0</td>\n      <td>932.0</td>\n      <td>670.0</td>\n      <td>365</td>\n    </tr>\n    <tr>\n      <th>8</th>\n      <td>8</td>\n      <td>380.0</td>\n      <td>0.0</td>\n      <td>0.0</td>\n      <td>228.0</td>\n      <td>0.0</td>\n      <td>932.0</td>\n      <td>670.0</td>\n      <td>365</td>\n    </tr>\n    <tr>\n      <th>3</th>\n      <td>3</td>\n      <td>236.0</td>\n      <td>0.0</td>\n      <td>0.0</td>\n      <td>193.0</td>\n      <td>0.0</td>\n      <td>968.0</td>\n      <td>885.0</td>\n      <td>365</td>\n    </tr>\n    <tr>\n      <th>4</th>\n      <td>4</td>\n      <td>237.5</td>\n      <td>237.5</td>\n      <td>0.0</td>\n      <td>228.0</td>\n      <td>0.0</td>\n      <td>932.0</td>\n      <td>594.0</td>\n      <td>365</td>\n    </tr>\n    <tr>\n      <th>...</th>\n      <td>...</td>\n      <td>...</td>\n      <td>...</td>\n      <td>...</td>\n      <td>...</td>\n      <td>...</td>\n      <td>...</td>\n      <td>...</td>\n      <td>...</td>\n    </tr>\n    <tr>\n      <th>1024</th>\n      <td>1024</td>\n      <td>166.1</td>\n      <td>0.0</td>\n      <td>163.3</td>\n      <td>176.5</td>\n      <td>4.5</td>\n      <td>1058.6</td>\n      <td>780.1</td>\n      <td>3</td>\n    </tr>\n    <tr>\n      <th>961</th>\n      <td>961</td>\n      <td>251.4</td>\n      <td>0.0</td>\n      <td>118.3</td>\n      <td>188.5</td>\n      <td>5.8</td>\n      <td>1028.4</td>\n      <td>757.7</td>\n      <td>3</td>\n    </tr>\n    <tr>\n      <th>1026</th>\n      <td>1026</td>\n      <td>236.0</td>\n      <td>0.0</td>\n      <td>0.0</td>\n      <td>194.0</td>\n      <td>0.0</td>\n      <td>968.0</td>\n      <td>885.0</td>\n      <td>3</td>\n    </tr>\n    <tr>\n      <th>1028</th>\n      <td>1028</td>\n      <td>385.0</td>\n      <td>0.0</td>\n      <td>0.0</td>\n      <td>186.0</td>\n      <td>0.0</td>\n      <td>966.0</td>\n      <td>763.0</td>\n      <td>1</td>\n    </tr>\n    <tr>\n      <th>1029</th>\n      <td>1029</td>\n      <td>500.0</td>\n      <td>0.0</td>\n      <td>0.0</td>\n      <td>200.0</td>\n      <td>0.0</td>\n      <td>1125.0</td>\n      <td>613.0</td>\n      <td>1</td>\n    </tr>\n  </tbody>\n</table>\n<p>1030 rows × 9 columns</p>\n</div>"
     },
     "execution_count": 13,
     "metadata": {},
     "output_type": "execute_result"
    }
   ],
   "source": [
    "# Let's transform the name of those columns that consist of several words into one word\n",
    "X = X.rename(columns={\"Blast Furnace Slag\" : \"Blast_Furnace_Slag\", \"Fly Ash\" : \"Fly_Ash\", \"Coarse Aggregate\" : \"Coarse_Aggregate\", \"Fine Aggregate\" : \"Fine_Aggregate\"})\n",
    "\n",
    "# Now lets sort by Age\n",
    "X = X.sort_values([\"Age\"], ascending=False)\n",
    "X"
   ],
   "metadata": {
    "collapsed": false,
    "ExecuteTime": {
     "end_time": "2024-07-12T16:17:38.352358Z",
     "start_time": "2024-07-12T16:17:38.341655Z"
    }
   }
  },
  {
   "cell_type": "code",
   "execution_count": 14,
   "outputs": [],
   "source": [
    "X = X.reset_index()\n",
    "X = X.drop(columns=\"index\")\n"
   ],
   "metadata": {
    "collapsed": false,
    "ExecuteTime": {
     "end_time": "2024-07-12T16:18:10.369223Z",
     "start_time": "2024-07-12T16:18:10.365028Z"
    }
   }
  },
  {
   "cell_type": "code",
   "execution_count": 27,
   "outputs": [
    {
     "data": {
      "text/plain": "14"
     },
     "execution_count": 27,
     "metadata": {},
     "output_type": "execute_result"
    }
   ],
   "source": [
    "X_is_age365 = X[X[\"Age\"] == 365]\n",
    "len(X_is_age365[\"Age\"])"
   ],
   "metadata": {
    "collapsed": false,
    "ExecuteTime": {
     "end_time": "2024-07-12T16:22:18.219193Z",
     "start_time": "2024-07-12T16:22:18.214791Z"
    }
   }
  },
  {
   "cell_type": "markdown",
   "source": [
    "### 3. Exploratory Data Analysis"
   ],
   "metadata": {
    "collapsed": false
   }
  },
  {
   "cell_type": "markdown",
   "source": [
    "### 4. Feature Extraction/Engineering"
   ],
   "metadata": {
    "collapsed": false
   }
  },
  {
   "cell_type": "markdown",
   "source": [
    "### 5. Hypothesis Testing"
   ],
   "metadata": {
    "collapsed": false
   }
  },
  {
   "cell_type": "markdown",
   "source": [
    "### 6. Regression (Classification) Models"
   ],
   "metadata": {
    "collapsed": false
   }
  },
  {
   "cell_type": "code",
   "execution_count": null,
   "outputs": [],
   "source": [
    "import seaborn as sns\n",
    "\n",
    "plot1 = sns.pairplot(concrete_compressive_strength)"
   ],
   "metadata": {
    "collapsed": false
   }
  },
  {
   "cell_type": "markdown",
   "source": [
    "### 7. Conclusion"
   ],
   "metadata": {
    "collapsed": false
   }
  },
  {
   "cell_type": "markdown",
   "source": [
    "### 8. Citation"
   ],
   "metadata": {
    "collapsed": false
   }
  }
 ],
 "metadata": {
  "kernelspec": {
   "display_name": "Python 3",
   "language": "python",
   "name": "python3"
  },
  "language_info": {
   "codemirror_mode": {
    "name": "ipython",
    "version": 2
   },
   "file_extension": ".py",
   "mimetype": "text/x-python",
   "name": "python",
   "nbconvert_exporter": "python",
   "pygments_lexer": "ipython2",
   "version": "2.7.6"
  }
 },
 "nbformat": 4,
 "nbformat_minor": 0
}
