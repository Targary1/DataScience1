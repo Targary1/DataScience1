{
 "cells": [
  {
   "cell_type": "markdown",
   "source": [
    "# Exam Learning"
   ],
   "metadata": {
    "collapsed": false
   }
  },
  {
   "cell_type": "markdown",
   "source": [
    "1. How to construct a list/tuple/dict"
   ],
   "metadata": {
    "collapsed": false
   }
  },
  {
   "cell_type": "code",
   "execution_count": null,
   "outputs": [],
   "source": [
    "# Lists\n",
    "movie_rating_list = [['Toy Story', 4.0],\n",
    "                     ['Jumanji', 4.0],\n",
    "                     ['Grumpier Old Men', 4.0],\n",
    "                     ['Waiting to Exhale', 5.0]]\n",
    "\n",
    "string = \"Hello World\"\n",
    "# movie_rating_list[0:2][0][0]\n",
    "string.index(\"o\")\n",
    "list(map(string.__getitem__, (0,3,6)))"
   ],
   "metadata": {
    "collapsed": false
   }
  },
  {
   "cell_type": "code",
   "execution_count": null,
   "outputs": [],
   "source": [
    "# Tuples\n",
    "titles = ['Toy Story',\n",
    "          'Jumanji',\n",
    "          'Grumpier Old Men',\n",
    "          'Waiting to Exhale']\n",
    "ratings = [4.0, 4.0, 4.0, 4.0]\n",
    "\n",
    "movie_data = zip(titles,ratings)\n",
    "#print(tuple(movie_data))\n",
    "\n",
    "# Note: enumerate adds a counter, so we don't have to declare a separate variable and increases its value\n",
    "for idx, data in enumerate(movie_data, 1):\n",
    "    ti, ra, = data\n",
    "    print(f'{idx}: {ti}: {ra} ')"
   ],
   "metadata": {
    "collapsed": false
   }
  },
  {
   "cell_type": "code",
   "execution_count": null,
   "outputs": [],
   "source": [
    "# Dictionaries\n",
    "movie_data_dict = {key:values for key, values in zip(titles, ratings)}\n",
    "\n",
    "movie_data_dict[\"Heat\"] = 5.0\n",
    "\n",
    "movie_data_dict.items()\n",
    "\n",
    "to_remove = [title for title,rating in movie_data_dict.items() if rating<5]\n",
    "\n",
    "for i in to_remove:\n",
    "    del movie_data_dict[i]\n",
    "\n",
    "titles = ['Toy Story',\n",
    "          'Jumanji',\n",
    "          'Grumpier Old Men',\n",
    "          'Waiting to Exhale']\n",
    "ratings = [4.0, 4.0, 4.0, 5.0]\n",
    "genres = ['Animation', 'Adventure', 'Comedy', 'Comedy']\n",
    "\n",
    "movie_data_dict1 = {key1: {\"rating\": key2, \"genre\":values} for key1, key2, values in zip(titles, ratings, genres)}\n",
    "\n",
    "# for i in to_remove1:\n",
    "#     del movie_data_dict1[i]\n",
    "\n",
    "# for key, value in movie_data_dict.items():\n",
    "#     print(key + ' has a rating of ' + str(value))"
   ],
   "metadata": {
    "collapsed": false
   }
  },
  {
   "cell_type": "markdown",
   "source": [
    "2. How to use map, filter and reduce"
   ],
   "metadata": {
    "collapsed": false
   }
  },
  {
   "cell_type": "code",
   "execution_count": null,
   "outputs": [],
   "source": [
    "from functools import reduce\n",
    "\n",
    "def f(x):\n",
    "    sum1 = 0\n",
    "    i = 0\n",
    "    while i < len(x):\n",
    "        sum1 += x[i]\n",
    "        i += 1\n",
    "    return sum1\n",
    "\n",
    "def g(x):\n",
    "    sum1 = 0\n",
    "    for i in range(len(x)):\n",
    "        sum1 += x[i]\n",
    "    return sum1\n",
    "\n",
    "x = [2, 3, 4, 5, 6, 7, 8]\n",
    "a = [\"This\", \"is\", \"a\", \"test!\"]\n",
    "\n",
    "even_x = map(lambda y: y%2, x)\n",
    "even_x = list(even_x)\n",
    "\n",
    "odd_x = filter(lambda y: y%2==1, x)\n",
    "list(odd_x)\n",
    "\n",
    "b = reduce(lambda a, y: a-y, x)\n",
    "a_mod = reduce(lambda x,y : x + \" \" + y, a)\n",
    "a_mod"
   ],
   "metadata": {
    "collapsed": false
   }
  },
  {
   "cell_type": "markdown",
   "source": [
    "3. How to use .iloc/loc for 2 directions (row & column slicing) and Pandas basics"
   ],
   "metadata": {
    "collapsed": false
   }
  },
  {
   "cell_type": "code",
   "execution_count": 102,
   "outputs": [
    {
     "data": {
      "text/plain": "        rating                time\n3          5.0 2000-07-30 19:03:35\n4          5.0 2000-07-30 18:48:51\n6          5.0 2000-07-30 18:14:28\n8          5.0 2000-07-30 19:07:21\n9          5.0 2000-07-30 19:08:20\n...        ...                 ...\n100814     5.0 2016-11-19 08:46:59\n100829     5.0 2017-05-03 21:07:11\n100832     5.0 2017-05-03 22:21:31\n100833     5.0 2017-05-08 19:50:47\n100834     5.0 2017-05-03 21:19:12\n\n[13211 rows x 2 columns]",
      "text/html": "<div>\n<style scoped>\n    .dataframe tbody tr th:only-of-type {\n        vertical-align: middle;\n    }\n\n    .dataframe tbody tr th {\n        vertical-align: top;\n    }\n\n    .dataframe thead th {\n        text-align: right;\n    }\n</style>\n<table border=\"1\" class=\"dataframe\">\n  <thead>\n    <tr style=\"text-align: right;\">\n      <th></th>\n      <th>rating</th>\n      <th>time</th>\n    </tr>\n  </thead>\n  <tbody>\n    <tr>\n      <th>3</th>\n      <td>5.0</td>\n      <td>2000-07-30 19:03:35</td>\n    </tr>\n    <tr>\n      <th>4</th>\n      <td>5.0</td>\n      <td>2000-07-30 18:48:51</td>\n    </tr>\n    <tr>\n      <th>6</th>\n      <td>5.0</td>\n      <td>2000-07-30 18:14:28</td>\n    </tr>\n    <tr>\n      <th>8</th>\n      <td>5.0</td>\n      <td>2000-07-30 19:07:21</td>\n    </tr>\n    <tr>\n      <th>9</th>\n      <td>5.0</td>\n      <td>2000-07-30 19:08:20</td>\n    </tr>\n    <tr>\n      <th>...</th>\n      <td>...</td>\n      <td>...</td>\n    </tr>\n    <tr>\n      <th>100814</th>\n      <td>5.0</td>\n      <td>2016-11-19 08:46:59</td>\n    </tr>\n    <tr>\n      <th>100829</th>\n      <td>5.0</td>\n      <td>2017-05-03 21:07:11</td>\n    </tr>\n    <tr>\n      <th>100832</th>\n      <td>5.0</td>\n      <td>2017-05-03 22:21:31</td>\n    </tr>\n    <tr>\n      <th>100833</th>\n      <td>5.0</td>\n      <td>2017-05-08 19:50:47</td>\n    </tr>\n    <tr>\n      <th>100834</th>\n      <td>5.0</td>\n      <td>2017-05-03 21:19:12</td>\n    </tr>\n  </tbody>\n</table>\n<p>13211 rows × 2 columns</p>\n</div>"
     },
     "execution_count": 102,
     "metadata": {},
     "output_type": "execute_result"
    }
   ],
   "source": [
    "import pandas as pd\n",
    "\n",
    "ratings_df = pd.read_csv(r'/Users/luc/PycharmProjects/DataScience1/Tutorium 3/ratings.csv')\n",
    "\n",
    "ratings_df[\"time\"] = pd.to_datetime(ratings_df.timestamp, unit=\"s\")\n",
    "ratings_df = ratings_df.drop(columns=\"timestamp\")\n",
    "\n",
    "#ratings_df.sort_values(\"rating\", ascending= False).head()\n",
    "high_ratings_df = ratings_df[ratings_df[\"rating\"]==5.0]\n",
    "\n",
    "# Hierarchical Indices\n",
    "new_ratings_df = ratings_df.reset_index().drop(columns=\"index\")\n",
    "\n",
    "# iloc and loc\n",
    "\n",
    "# print(ratings_df.head())\n",
    "# #ratings_df.iloc[0,0]\n",
    "ratings_df.loc[ratings_df[\"rating\"] == 5.0, [\"rating\", \"time\"]]"
   ],
   "metadata": {
    "collapsed": false,
    "ExecuteTime": {
     "end_time": "2024-08-05T15:50:00.817935Z",
     "start_time": "2024-08-05T15:50:00.780246Z"
    }
   }
  },
  {
   "cell_type": "markdown",
   "source": [
    "4. How to construct simple categorical plots"
   ],
   "metadata": {
    "collapsed": false
   }
  },
  {
   "cell_type": "code",
   "execution_count": null,
   "outputs": [],
   "source": [
    "import matplotlib.pyplot as plt\n",
    "import pandas as pd\n",
    "\n",
    "# Line plot on single axis\n",
    "plt.plot(df.timestamp, df.X) #What should be on the 1st and 2nd argument?\n",
    "\n",
    "plt.axes # also usable\n",
    "\n",
    "plt.subplot(1,3,1) # nrows, ncols, nsubplot - row-wise from top left;  indexed from 1\n",
    "\n",
    "# Plot Dataframe\n",
    "genres_dist.plot(kind=\"bar\", title=\"Genres distribution of rated movies of all time\")\n",
    "plt.show()\n",
    "# Pie plot\n",
    "genres_20s.plot.pie(autopct='%1.1f%%', pctdistance=0.85, labels=None)\n",
    "plt.show()\n",
    "# Histogramm\n",
    "ratings_df[ratings_df.movieId.isin(fantasy_movie_ids)].rating.hist(alpha=0.5, color='b', label='Fantasy')\n",
    "plt.show()\n",
    "\n",
    "import seaborn as sns\n",
    "\n",
    "# Linear regression plot\n",
    "sns.lmplot(x='mpg', y='horsepower', data=mpg_df)\n",
    "plt.show()\n",
    "\n",
    "# Normalized Distribution Plot\n",
    "sns.distplot(birthwt.bwt[birthwt.smoke==0], bins=20, hist=False, color='b', label='non-smokers')\n",
    "plt.show()\n",
    "\n",
    "# Strip plot, swarm plot, violin plot\n",
    "sns.stripplot(x='origin', y='mpg', data=mpg_df)\n",
    "sns.swarmplot(x='origin', y='mpg', data=mpg_df)\n",
    "sns.violinplot(x='origin', y='mpg', data=mpg_df)\n",
    "plt.show()\n",
    "\n",
    "# Joint plot is fancier\n",
    "sns.jointplot(x='mpg', y='horsepower', kind='hex', data=mpg_df) # kind = “scatter” | “reg” | “resid” | “kde” | “hex”\n",
    "plt.show()\n",
    "\n",
    "# Pair plot shows all possible combinations\n",
    "sns.pairplot(mpg_df, hue='origin')\n",
    "plt.show()\n",
    "\n",
    "\n"
   ],
   "metadata": {
    "collapsed": false
   }
  },
  {
   "cell_type": "markdown",
   "source": [
    "5. How to use groupby and agg to display descriptive statistics"
   ],
   "metadata": {
    "collapsed": false
   }
  },
  {
   "cell_type": "code",
   "execution_count": 99,
   "outputs": [
    {
     "ename": "IndexError",
     "evalue": "invalid index to scalar variable.",
     "output_type": "error",
     "traceback": [
      "\u001B[0;31m---------------------------------------------------------------------------\u001B[0m",
      "\u001B[0;31mIndexError\u001B[0m                                Traceback (most recent call last)",
      "Cell \u001B[0;32mIn[99], line 7\u001B[0m\n\u001B[1;32m      5\u001B[0m mean_rating_per_user \u001B[38;5;241m=\u001B[39m ratings_df\u001B[38;5;241m.\u001B[39mgroupby(\u001B[38;5;124m\"\u001B[39m\u001B[38;5;124muserId\u001B[39m\u001B[38;5;124m\"\u001B[39m)\u001B[38;5;241m.\u001B[39mrating\u001B[38;5;241m.\u001B[39mmean()\n\u001B[1;32m      6\u001B[0m summary_rating_per_user \u001B[38;5;241m=\u001B[39m ratings_df\u001B[38;5;241m.\u001B[39mgroupby(\u001B[38;5;124m\"\u001B[39m\u001B[38;5;124muserId\u001B[39m\u001B[38;5;124m\"\u001B[39m)\u001B[38;5;241m.\u001B[39mrating\u001B[38;5;241m.\u001B[39magg([\u001B[38;5;124m'\u001B[39m\u001B[38;5;124mmin\u001B[39m\u001B[38;5;124m'\u001B[39m, \u001B[38;5;124m'\u001B[39m\u001B[38;5;124mmax\u001B[39m\u001B[38;5;124m'\u001B[39m, \u001B[38;5;124m'\u001B[39m\u001B[38;5;124mmean\u001B[39m\u001B[38;5;124m'\u001B[39m, \u001B[38;5;124m'\u001B[39m\u001B[38;5;124mmedian\u001B[39m\u001B[38;5;124m'\u001B[39m, \u001B[38;5;124m'\u001B[39m\u001B[38;5;124mcount\u001B[39m\u001B[38;5;124m'\u001B[39m])\n\u001B[0;32m----> 7\u001B[0m \u001B[43mmean_rating_per_user\u001B[49m\u001B[38;5;241;43m.\u001B[39;49m\u001B[43mloc\u001B[49m\u001B[43m[\u001B[49m\u001B[38;5;241;43m1\u001B[39;49m\u001B[43m]\u001B[49m\u001B[43m[\u001B[49m\u001B[38;5;241;43m0\u001B[39;49m\u001B[43m]\u001B[49m\n",
      "\u001B[0;31mIndexError\u001B[0m: invalid index to scalar variable."
     ]
    }
   ],
   "source": [
    "import pandas as pd\n",
    "\n",
    "ratings_df = pd.read_csv(r'/Users/luc/PycharmProjects/DataScience1/Tutorium 3/ratings.csv')\n",
    "\n",
    "mean_rating_per_user = ratings_df.groupby(\"userId\").rating.mean()\n",
    "summary_rating_per_user = ratings_df.groupby(\"userId\").rating.agg(['min', 'max', 'mean', 'median', 'count'])"
   ],
   "metadata": {
    "collapsed": false,
    "ExecuteTime": {
     "end_time": "2024-08-05T15:46:02.375691Z",
     "start_time": "2024-08-05T15:46:02.346515Z"
    }
   }
  },
  {
   "cell_type": "markdown",
   "source": [
    "6. How to split sample sets into training and test sets"
   ],
   "metadata": {
    "collapsed": false
   }
  },
  {
   "cell_type": "code",
   "execution_count": 44,
   "outputs": [],
   "source": [
    "from sklearn.model_selection import train_test_split\n",
    "from sklearn.datasets import fetch_california_housing\n",
    "from sklearn.linear_model import LinearRegression\n",
    "from sklearn.linear_model import Ridge\n",
    "\n",
    "\n",
    "\n",
    "housing_data = fetch_california_housing()\n",
    "\n",
    "X_train, X_test, y_train, y_test = train_test_split(housing_data.data,#features\n",
    "                                                    housing_data.target,#target\n",
    "                                                    test_size = 0.20,\n",
    "                                                    random_state=123)\n",
    "\n",
    "model = LinearRegression()\n",
    "model.fit(X_train,y_train)\n",
    "\n",
    "# PREDICT ON BOTH TRAIN AND TEST\n",
    "train_pred = model.predict(X_train)\n",
    "test_pred = model.predict(X_test)\n",
    "\n",
    "# Ridge Regression\n",
    "\n",
    "# Alpha is a hyperparameter, later on we'll use cross validation to choose the optimal value\n",
    "model_ridge = Ridge(alpha=0.1)\n",
    "\n",
    "# Fit the training set\n",
    "model_ridge.fit(scaled_X_train, y_train)  # using feature scaler!!!!!!!!!!!!\n",
    "\n",
    "# Prediction on the test set\n",
    "test_pred = model_ridge.predict(scaled_X_test)"
   ],
   "metadata": {
    "collapsed": false,
    "ExecuteTime": {
     "end_time": "2024-08-04T15:18:01.183227Z",
     "start_time": "2024-08-04T15:18:00.309860Z"
    }
   }
  },
  {
   "cell_type": "markdown",
   "source": [
    "## Tasks from Exam Prep"
   ],
   "metadata": {
    "collapsed": false
   }
  },
  {
   "cell_type": "code",
   "execution_count": null,
   "outputs": [],
   "source": [
    "n = 100\n",
    "all_x = [40, 40, 15, 4, 1]\n",
    "all_p = [0.6561, 0.2916, 0.0486, 0.0036, 0.0001]\n",
    "# all_v = all_x.extend(all_p)\n",
    "\n",
    "t = 0\n",
    "for i in range(len(all_x)):\n",
    "    t += (all_x[i] - n*all_p[i])**2 / (n*all_p[i])\n",
    "t"
   ],
   "metadata": {
    "collapsed": false
   }
  },
  {
   "cell_type": "code",
   "execution_count": 55,
   "outputs": [
    {
     "data": {
      "text/plain": "0.10168181096823525"
     },
     "execution_count": 55,
     "metadata": {},
     "output_type": "execute_result"
    }
   ],
   "source": [
    "import numpy as np\n",
    "import math as mt\n",
    "\n",
    "def poisson(x,lamb):\n",
    "    return (np.exp(-lamb) * lamb**x) / mt.factorial(x)\n",
    "\n",
    "y = [0,1,2,3,4,5]\n",
    "1 - (poisson(0, 3.167) + poisson(1, 3.167) + poisson(2, 3.167) +poisson(3, 3.167) + poisson(4, 3.167) +poisson(5, 3.167))"
   ],
   "metadata": {
    "collapsed": false,
    "ExecuteTime": {
     "end_time": "2024-08-04T19:00:32.905311Z",
     "start_time": "2024-08-04T19:00:32.895608Z"
    }
   }
  },
  {
   "cell_type": "markdown",
   "source": [
    "### Serlo-Aufgaben"
   ],
   "metadata": {
    "collapsed": false
   }
  },
  {
   "cell_type": "code",
   "execution_count": 65,
   "outputs": [
    {
     "name": "stdout",
     "output_type": "stream",
     "text": [
      "49.0\n",
      "H_0 abgelehnt: Politiker hat weniger Zuspruch als 30% erreicht!\n"
     ]
    }
   ],
   "source": [
    "# Aufgabe 1\n",
    "# H_0: mu = 0.3;  H_1: mu < 0.3\n",
    "\n",
    "from scipy.stats import binom\n",
    "mu = 0.3\n",
    "n = 200\n",
    "alpha = 0.05\n",
    "test_value = 45\n",
    "\n",
    "critical_value = binom.ppf(0.05, 200, 0.3)\n",
    "print(critical_value)\n",
    "if test_value < critical_value:\n",
    "    print(\"H_0 abgelehnt: Politiker hat weniger Zuspruch als 30% erreicht!\")\n",
    "else:\n",
    "    print(\"H_0 angenommen: Politiker hat immer noch Zuspruch von 30% !\")\n"
   ],
   "metadata": {
    "collapsed": false,
    "ExecuteTime": {
     "end_time": "2024-08-04T19:24:13.645743Z",
     "start_time": "2024-08-04T19:24:13.637355Z"
    }
   }
  },
  {
   "cell_type": "code",
   "execution_count": 85,
   "outputs": [
    {
     "name": "stdout",
     "output_type": "stream",
     "text": [
      "1.2681818181818183 4.994909219063238 0.20020383877718267\n",
      "Population variances are equal.\n",
      "2.1447866879169273 -2.1447866879169277 -5.329804276636669 14\n",
      "The means are not equal\n"
     ]
    }
   ],
   "source": [
    "# Two sample case for mean\n",
    "# H_0: mu_1 = mu_2; H1: mu_1 /= mu_2\n",
    "import numpy as np\n",
    "from scipy.stats import t, f\n",
    "\n",
    "n = 8\n",
    "\n",
    "null = [14.3, 14.5, 14.7, 14.3, 14.7, 14.8, 14.2, 14.6]\n",
    "null_mean = np.mean(null)\n",
    "null_std = np.std(null, ddof=1)\n",
    "\n",
    "boden = [15, 15.2, 14.9, 14.9, 14.8, 15.2, 15.3, 15.3]\n",
    "boden_mean = np.mean(boden)\n",
    "boden_std = np.std(boden, ddof=1)\n",
    "\n",
    "# Unknown population variances ==> First F-max test\n",
    "F_max = (null_std**2 / n) / (boden_std**2 / n)\n",
    "F_crit_left = f.ppf(0.025, 7, 7)\n",
    "F_crit_right = f.ppf(0.975, 7, 7)\n",
    "print(F_max, F_crit_right, F_crit_left)\n",
    "\n",
    "if F_crit_left < F_max < F_crit_right:\n",
    "    print(\"Population variances are equal.\")\n",
    "else:\n",
    "    print(\"Population variances are not equal.\")\n",
    "\n",
    "\n",
    "# Now perform actual t test\n",
    "s = np.sqrt(((n-1)*null_std**2 + (n-1)* boden_std**2) / (2*n-2))\n",
    "s_xy = np.sqrt(s**2 * (1/n + 1/n))\n",
    "test_statistic = (null_mean-boden_mean) / s_xy\n",
    "dof = 2*n -2\n",
    "t_crit_right = t.ppf(0.975, dof)\n",
    "t_crit_left = t.ppf(0.025, dof)\n",
    "print(t_crit_right, t_crit_left, test_statistic, dof)\n",
    "\n",
    "if (test_statistic > t_crit_right) or (test_statistic < t_crit_left):\n",
    "    print(\"The means are not equal\")\n",
    "else:\n",
    "    print(\"The means are equal\")\n",
    "\n",
    "# dof = ((boden_std**2/n + null_std**2/n)**2) / ((null_std**2/n)**2 / (n-1) + (boden_std**2/n)**2 / (n-1))"
   ],
   "metadata": {
    "collapsed": false,
    "ExecuteTime": {
     "end_time": "2024-08-04T20:04:42.993159Z",
     "start_time": "2024-08-04T20:04:42.981948Z"
    }
   }
  }
 ],
 "metadata": {
  "kernelspec": {
   "display_name": "Python 3",
   "language": "python",
   "name": "python3"
  },
  "language_info": {
   "codemirror_mode": {
    "name": "ipython",
    "version": 2
   },
   "file_extension": ".py",
   "mimetype": "text/x-python",
   "name": "python",
   "nbconvert_exporter": "python",
   "pygments_lexer": "ipython2",
   "version": "2.7.6"
  }
 },
 "nbformat": 4,
 "nbformat_minor": 0
}
