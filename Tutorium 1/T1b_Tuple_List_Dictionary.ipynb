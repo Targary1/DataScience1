{
 "cells": [
  {
   "cell_type": "markdown",
   "metadata": {
    "id": "YxedrdeCILh6"
   },
   "source": [
    "# Data Science I Topic 1b - Tuple, List & Dictionary"
   ]
  },
  {
   "cell_type": "markdown",
   "metadata": {
    "id": "_pT_032qILh8"
   },
   "source": [
    "<u>The lists used below are the first few entries of the dataset [MovieLens](https://grouplens.org/datasets/movielens/)  that we will use again later.</u>"
   ]
  },
  {
   "cell_type": "markdown",
   "metadata": {
    "id": "tvV68uO6ILh8"
   },
   "source": [
    "## List"
   ]
  },
  {
   "cell_type": "markdown",
   "metadata": {
    "id": "rL9b00ymILh8"
   },
   "source": [
    "<u>A list can contain a mix of variable types.</u>"
   ]
  },
  {
   "cell_type": "markdown",
   "metadata": {
    "id": "4pctcEN0ILh9"
   },
   "source": [
    "### Initializing"
   ]
  },
  {
   "cell_type": "code",
   "execution_count": 51,
   "metadata": {
    "id": "9oECq4ppILh9",
    "ExecuteTime": {
     "end_time": "2024-05-14T19:40:23.842381Z",
     "start_time": "2024-05-14T19:40:23.838206Z"
    }
   },
   "outputs": [
    {
     "name": "stdout",
     "output_type": "stream",
     "text": [
      "['Toy Story', 4.0, 'Jumanji', 4.0, 'Grumpier Old Men', 4.0, 'Waiting to Exhale', 5.0]\n"
     ]
    }
   ],
   "source": [
    "# Run this cell\n",
    "movie_ratings = ['Toy Story', 4.0,\n",
    "                 'Jumanji', 4.0,\n",
    "                 'Grumpier Old Men', 4.0,\n",
    "                 'Waiting to Exhale', 5.0,]\n",
    "print(movie_ratings)"
   ]
  },
  {
   "cell_type": "markdown",
   "metadata": {
    "id": "DBAw9y9BILh-"
   },
   "source": [
    "<u>You can make lists within a list. Continue the following such that it contains list of lists of the movie title and its corresponding rating.</u>"
   ]
  },
  {
   "cell_type": "code",
   "execution_count": 2,
   "metadata": {
    "id": "p50GE7Y3ILh-",
    "ExecuteTime": {
     "end_time": "2024-05-14T19:21:45.182047Z",
     "start_time": "2024-05-14T19:21:45.177951Z"
    }
   },
   "outputs": [
    {
     "name": "stdout",
     "output_type": "stream",
     "text": [
      "[['Toy Story', 4.0], ['Jumanji', 4.0], ['Grumpier Old Men', 4.0], ['Waiting to Exhale', 5.0]]\n"
     ]
    }
   ],
   "source": [
    "# expand this to contain the 4 movie titles and ratings above\n",
    "movie_rating_list = [['Toy Story', 4.0], ['Jumanji', 4.0], ['Grumpier Old Men', 4.0], ['Waiting to Exhale', 5.0]]\n",
    "\n",
    "# display it\n",
    "print(movie_rating_list)"
   ]
  },
  {
   "cell_type": "markdown",
   "metadata": {
    "id": "gUFmxPJWILh-"
   },
   "source": [
    "### Extending, appending"
   ]
  },
  {
   "cell_type": "markdown",
   "metadata": {
    "id": "6w8VVMvyILh-"
   },
   "source": [
    "<u>`.extend()`: iterates over its argument, you can put many additions **in form of a list**, to add into another list.</u>"
   ]
  },
  {
   "cell_type": "code",
   "execution_count": 3,
   "metadata": {
    "id": "uqJhNdknILh_",
    "ExecuteTime": {
     "end_time": "2024-05-14T19:21:50.769508Z",
     "start_time": "2024-05-14T19:21:50.759497Z"
    }
   },
   "outputs": [
    {
     "name": "stdout",
     "output_type": "stream",
     "text": [
      "['Toy Story', 4.0, 'Jumanji', 4.0, 'Grumpier Old Men', 4.0, 'Waiting to Exhale', 5.0, 'Father of The Bride Part II', 5.0]\n"
     ]
    }
   ],
   "source": [
    "# extend the movie_ratings list to include the movie 'Father of The Bride Part II' with rating  5.0\n",
    "# movie_ratings list shouldn't contain any list\n",
    "________________\n",
    "\n",
    "# display it\n",
    "print(movie_ratings)"
   ]
  },
  {
   "cell_type": "markdown",
   "metadata": {
    "id": "GRyawJuVILh_"
   },
   "source": [
    "`.append()`: add a single element to the end of a list."
   ]
  },
  {
   "cell_type": "code",
   "execution_count": 13,
   "metadata": {
    "id": "tm2Vo6khILh_",
    "ExecuteTime": {
     "end_time": "2024-05-14T19:25:04.681976Z",
     "start_time": "2024-05-14T19:25:04.677793Z"
    }
   },
   "outputs": [
    {
     "name": "stdout",
     "output_type": "stream",
     "text": [
      "['Toy Story', 4.0, 'Jumanji', 4.0, 'Grumpier Old Men', 4.0, 'Waiting to Exhale', 5.0, 'Father of The Bride Part II', 5.0, 'Heat', 5.0]\n"
     ]
    }
   ],
   "source": [
    "# append 'Heat' and then the rating of 4.0 to the list movie_ratings\n",
    "# movie_ratings list shouldn't contain any list\n",
    "________________\n",
    "\n",
    "# display it\n",
    "________________"
   ]
  },
  {
   "cell_type": "markdown",
   "metadata": {
    "id": "fK2BPhcfILh_"
   },
   "source": [
    "### Subsetting"
   ]
  },
  {
   "cell_type": "markdown",
   "metadata": {
    "id": "Kt32KWFsILh_"
   },
   "source": [
    "<u>Indexing in Python starts with 0. You can access the last element with index -1. Run the cells below.</u>"
   ]
  },
  {
   "cell_type": "code",
   "execution_count": 14,
   "metadata": {
    "id": "gZHAOV4ZILh_",
    "ExecuteTime": {
     "end_time": "2024-05-14T19:25:13.597948Z",
     "start_time": "2024-05-14T19:25:13.593419Z"
    }
   },
   "outputs": [
    {
     "name": "stdout",
     "output_type": "stream",
     "text": [
      "Toy Story\n",
      "5.0\n"
     ]
    }
   ],
   "source": [
    "print(movie_ratings[0])\n",
    "print(movie_ratings[-1])"
   ]
  },
  {
   "cell_type": "code",
   "execution_count": 44,
   "metadata": {
    "id": "eAvA4Yh7ILiA",
    "ExecuteTime": {
     "end_time": "2024-05-14T19:38:15.017529Z",
     "start_time": "2024-05-14T19:38:15.011757Z"
    }
   },
   "outputs": [
    {
     "name": "stdout",
     "output_type": "stream",
     "text": [
      "<class 'int'>\n",
      "2\n"
     ]
    },
    {
     "data": {
      "text/plain": "8"
     },
     "execution_count": 44,
     "metadata": {},
     "output_type": "execute_result"
    }
   ],
   "source": [
    "# Which index contains the movie title 'Jumanji'?\n",
    "ind_jumanji = movie_ratings.__________('Jumanji')"
   ]
  },
  {
   "cell_type": "code",
   "execution_count": 22,
   "metadata": {
    "id": "BpSSQBjSILiA",
    "ExecuteTime": {
     "end_time": "2024-05-14T19:30:15.962986Z",
     "start_time": "2024-05-14T19:30:15.948120Z"
    }
   },
   "outputs": [
    {
     "name": "stdout",
     "output_type": "stream",
     "text": [
      "4.0\n"
     ]
    }
   ],
   "source": [
    "# Print the rating of Jumanji\n",
    "___________"
   ]
  },
  {
   "cell_type": "markdown",
   "metadata": {
    "id": "iiwLU3yUILiA"
   },
   "source": [
    "<u>What happens if you use negative indices like -2, -3, and so on? Try it below.</u>"
   ]
  },
  {
   "cell_type": "code",
   "execution_count": null,
   "metadata": {
    "id": "ebWXGWN4ILiA"
   },
   "outputs": [],
   "source": [
    "___________"
   ]
  },
  {
   "cell_type": "markdown",
   "metadata": {
    "id": "fyzL6wstILiA"
   },
   "source": [
    "### Subsetting list of lists"
   ]
  },
  {
   "cell_type": "markdown",
   "metadata": {
    "id": "A2QzZpP6ILiA"
   },
   "source": [
    "<u>To subset a list of lists, use double square brackets. Try it below.</u>"
   ]
  },
  {
   "cell_type": "code",
   "execution_count": 50,
   "metadata": {
    "id": "qLs94b0DILiB",
    "ExecuteTime": {
     "end_time": "2024-05-14T19:40:01.967766Z",
     "start_time": "2024-05-14T19:40:01.962359Z"
    }
   },
   "outputs": [
    {
     "name": "stdout",
     "output_type": "stream",
     "text": [
      "[['Toy Story', 4.0], ['Jumanji', 4.0], ['Grumpier Old Men', 4.0], ['Waiting to Exhale', 5.0]]\n",
      "['Toy Story', 4.0]\n",
      "Toy Story\n"
     ]
    }
   ],
   "source": [
    "# Run this\n",
    "print(movie_rating_list)\n",
    "print(movie_rating_list[0])\n",
    "print(movie_rating_list[0][0])"
   ]
  },
  {
   "cell_type": "markdown",
   "metadata": {
    "id": "4dMSd726ILiB"
   },
   "source": [
    "### Slicing"
   ]
  },
  {
   "cell_type": "markdown",
   "metadata": {
    "id": "p1xyU4LcILiB"
   },
   "source": [
    "<u>Slicing means selecting multiple elements from your list. You can slice from the first element by using blank. Run the cell below.</u>"
   ]
  },
  {
   "cell_type": "code",
   "execution_count": 24,
   "metadata": {
    "id": "NMxQaGPnILiB",
    "ExecuteTime": {
     "end_time": "2024-05-14T19:30:42.283389Z",
     "start_time": "2024-05-14T19:30:42.273285Z"
    }
   },
   "outputs": [
    {
     "name": "stdout",
     "output_type": "stream",
     "text": [
      "['Toy Story', 4.0]\n",
      "['Toy Story', 'Jumanji', 'Grumpier Old Men', 'Waiting to Exhale', 'Father of The Bride Part II', 'Heat']\n"
     ]
    }
   ],
   "source": [
    "print(movie_ratings[:2])\n",
    "print(movie_ratings[::2])"
   ]
  },
  {
   "cell_type": "markdown",
   "metadata": {
    "id": "xdZYgBOLILiB"
   },
   "source": [
    "<u>Notice how the start index is included and the end index isn't. Now try printing the last two elements.</u>"
   ]
  },
  {
   "cell_type": "code",
   "execution_count": 32,
   "metadata": {
    "id": "3egfJoxJILiB",
    "ExecuteTime": {
     "end_time": "2024-05-14T19:32:56.083995Z",
     "start_time": "2024-05-14T19:32:56.079133Z"
    }
   },
   "outputs": [
    {
     "name": "stdout",
     "output_type": "stream",
     "text": [
      "['Father of The Bride Part II', 5.0]\n"
     ]
    }
   ],
   "source": [
    "___________"
   ]
  },
  {
   "cell_type": "markdown",
   "metadata": {
    "id": "IoI1hSPEILiB"
   },
   "source": [
    "### Removing"
   ]
  },
  {
   "cell_type": "markdown",
   "metadata": {
    "id": "jkvteeAPILiB"
   },
   "source": [
    "<u>Recall `ind_jumanji` contains the index of the movie title 'Jumanji'.</u>"
   ]
  },
  {
   "cell_type": "code",
   "execution_count": 54,
   "metadata": {
    "id": "fUF5e_2MILiC",
    "ExecuteTime": {
     "end_time": "2024-05-14T19:40:54.740645Z",
     "start_time": "2024-05-14T19:40:54.736705Z"
    }
   },
   "outputs": [
    {
     "name": "stdout",
     "output_type": "stream",
     "text": [
      "['Toy Story', 4.0, 'Grumpier Old Men', 4.0, 'Waiting to Exhale', 5.0]\n"
     ]
    }
   ],
   "source": [
    "# remove Jumanji and its rating using .pop()\n",
    "\n",
    "# remove the rating\n",
    "movie_ratings.pop(__________)\n",
    "\n",
    "# remove 'Jumanji'\n",
    "___________\n",
    "print(movie_ratings)"
   ]
  },
  {
   "cell_type": "markdown",
   "metadata": {
    "id": "Y2Ziie1mILiC"
   },
   "source": [
    "### List comprehension"
   ]
  },
  {
   "cell_type": "markdown",
   "metadata": {
    "id": "VQSTN0hNILiC"
   },
   "source": [
    "<u>We've seen an example of list comprehension in the lecture. Try it yourself: generate the power 3 of `x`, where `x` is even numbers from 0 to 20."
   ]
  },
  {
   "cell_type": "code",
   "execution_count": 34,
   "metadata": {
    "id": "RwDSmsUSILiC",
    "ExecuteTime": {
     "end_time": "2024-05-14T19:34:30.283336Z",
     "start_time": "2024-05-14T19:34:30.279590Z"
    }
   },
   "outputs": [
    {
     "name": "stdout",
     "output_type": "stream",
     "text": [
      "[0, 1, 8, 27, 64, 125, 216, 343, 512, 729, 1000, 1331, 1728, 2197, 2744, 3375, 4096, 4913, 5832, 6859, 8000]\n"
     ]
    }
   ],
   "source": []
  },
  {
   "cell_type": "markdown",
   "metadata": {
    "id": "0iz4RugXILiC"
   },
   "source": [
    "## Tuple"
   ]
  },
  {
   "cell_type": "markdown",
   "metadata": {
    "id": "O2xb-w23ILiC"
   },
   "source": [
    "<u>Tuples are immutable. Run the cells below and inspect the results.</u>"
   ]
  },
  {
   "cell_type": "code",
   "execution_count": 55,
   "metadata": {
    "id": "88oJWWptILiC",
    "ExecuteTime": {
     "end_time": "2024-05-14T19:41:48.661356Z",
     "start_time": "2024-05-14T19:41:48.647391Z"
    }
   },
   "outputs": [
    {
     "name": "stdout",
     "output_type": "stream",
     "text": [
      "Toy Story\n"
     ]
    },
    {
     "ename": "TypeError",
     "evalue": "'tuple' object does not support item assignment",
     "output_type": "error",
     "traceback": [
      "\u001B[0;31m---------------------------------------------------------------------------\u001B[0m",
      "\u001B[0;31mTypeError\u001B[0m                                 Traceback (most recent call last)",
      "Cell \u001B[0;32mIn[55], line 6\u001B[0m\n\u001B[1;32m      1\u001B[0m titles \u001B[38;5;241m=\u001B[39m (\u001B[38;5;124m'\u001B[39m\u001B[38;5;124mToy Story\u001B[39m\u001B[38;5;124m'\u001B[39m,\n\u001B[1;32m      2\u001B[0m           \u001B[38;5;124m'\u001B[39m\u001B[38;5;124mJumanji\u001B[39m\u001B[38;5;124m'\u001B[39m,\n\u001B[1;32m      3\u001B[0m           \u001B[38;5;124m'\u001B[39m\u001B[38;5;124mGrumpier Old Men\u001B[39m\u001B[38;5;124m'\u001B[39m,\n\u001B[1;32m      4\u001B[0m           \u001B[38;5;124m'\u001B[39m\u001B[38;5;124mWaiting to Exhale\u001B[39m\u001B[38;5;124m'\u001B[39m)\n\u001B[1;32m      5\u001B[0m \u001B[38;5;28mprint\u001B[39m(titles[\u001B[38;5;241m0\u001B[39m])\n\u001B[0;32m----> 6\u001B[0m \u001B[43mtitles\u001B[49m\u001B[43m[\u001B[49m\u001B[38;5;241;43m0\u001B[39;49m\u001B[43m]\u001B[49m \u001B[38;5;241m=\u001B[39m \u001B[38;5;124m'\u001B[39m\u001B[38;5;124mToy Story 2\u001B[39m\u001B[38;5;124m'\u001B[39m\n",
      "\u001B[0;31mTypeError\u001B[0m: 'tuple' object does not support item assignment"
     ]
    }
   ],
   "source": [
    "titles = ('Toy Story',\n",
    "          'Jumanji',\n",
    "          'Grumpier Old Men',\n",
    "          'Waiting to Exhale')\n",
    "print(titles[0])\n",
    "titles[0] = 'Toy Story 2'"
   ]
  },
  {
   "cell_type": "markdown",
   "metadata": {
    "id": "QUF3lu6VILiC"
   },
   "source": [
    "<u>In the lecture, we have seen the following example using `zip()` function.</u>"
   ]
  },
  {
   "cell_type": "code",
   "execution_count": 58,
   "metadata": {
    "id": "7rsPczK1ILiD",
    "ExecuteTime": {
     "end_time": "2024-05-14T19:45:15.616761Z",
     "start_time": "2024-05-14T19:45:15.612667Z"
    }
   },
   "outputs": [
    {
     "name": "stdout",
     "output_type": "stream",
     "text": [
      "[('Toy Story', 4.0), ('Jumanji', 4.0), ('Grumpier Old Men', 4.0), ('Waiting to Exhale', 4.0)]\n"
     ]
    }
   ],
   "source": [
    "titles = ['Toy Story',\n",
    "          'Jumanji',\n",
    "          'Grumpier Old Men',\n",
    "          'Waiting to Exhale']\n",
    "ratings = [4.0, 4.0, 4.0, 4.0]\n",
    "\n",
    "# zip() function returns an iterator\n",
    "movie_data = zip(titles, ratings)\n",
    "\n",
    "# iterate over movie_data\n",
    "for idx, data in enumerate(movie_data, 1): # to start at 1 instead of 0\n",
    "    mx, rx = (data)\n",
    "    print('{}: {}, rating: {}'.format(idx, mx, rx))"
   ]
  },
  {
   "cell_type": "markdown",
   "metadata": {
    "id": "kA2P5tngILiD"
   },
   "source": [
    "<u>Given the following genres, print each movie title and its genre by using `titles`, `genres`, and `zip()` function.</u>"
   ]
  },
  {
   "cell_type": "code",
   "execution_count": null,
   "metadata": {
    "id": "OqzC6Rh6ILiD"
   },
   "outputs": [],
   "source": [
    "genres = ['Animation', 'Adventure', 'Comedy', 'Comedy']\n",
    "\n",
    "__________"
   ]
  },
  {
   "cell_type": "markdown",
   "metadata": {
    "id": "MkK68mlAILiD"
   },
   "source": [
    "## Dictionary"
   ]
  },
  {
   "cell_type": "markdown",
   "metadata": {
    "id": "lBOKKjAnILiD"
   },
   "source": [
    "### Initializing"
   ]
  },
  {
   "cell_type": "markdown",
   "metadata": {
    "id": "NO36oVfEILiD"
   },
   "source": [
    "<u>Run the following cells and inspect the results</u>"
   ]
  },
  {
   "cell_type": "code",
   "execution_count": 59,
   "metadata": {
    "scrolled": true,
    "id": "iac9OBxoILiD",
    "ExecuteTime": {
     "end_time": "2024-05-14T19:51:31.623990Z",
     "start_time": "2024-05-14T19:51:31.613492Z"
    }
   },
   "outputs": [
    {
     "name": "stdout",
     "output_type": "stream",
     "text": [
      "{'Toy Story': 4.0, 'Jumanji': 4.0, 'Grumpier Old Men': 4.0, 'Waiting to Exhale': 5.0}\n"
     ]
    }
   ],
   "source": [
    "movie_ratings = {'Toy Story':4.0,\n",
    "                 'Jumanji':4.0,\n",
    "                 'Grumpier Old Men':4.0,\n",
    "                 'Waiting to Exhale':5.0}\n",
    "\n",
    "print(movie_ratings)"
   ]
  },
  {
   "cell_type": "markdown",
   "metadata": {
    "id": "hpoNfttOILiE"
   },
   "source": [
    "### Keys, values"
   ]
  },
  {
   "cell_type": "code",
   "execution_count": null,
   "metadata": {
    "id": "lzOx6PXpILiE"
   },
   "outputs": [],
   "source": [
    "# print out all the keys using .keys() method\n",
    "# _________"
   ]
  },
  {
   "cell_type": "code",
   "execution_count": null,
   "metadata": {
    "id": "U0g7emAsILiE"
   },
   "outputs": [],
   "source": [
    "# use .values() method to get the rating values\n",
    "# _________"
   ]
  },
  {
   "cell_type": "code",
   "execution_count": null,
   "metadata": {
    "id": "oC0zbxBlILiE"
   },
   "outputs": [],
   "source": [
    "# This prints out \"Toy Story\" rating by first checking if it's indeed in movie_ratings\n",
    "if ('Toy Story' in movie_ratings.keys()):\n",
    "    # print out the rating of Toy Story by using movie_ratings[key]\n",
    "    print(movie_ratings['Toy Story'])"
   ]
  },
  {
   "cell_type": "code",
   "execution_count": null,
   "metadata": {
    "id": "rTnVL8hMILiE"
   },
   "outputs": [],
   "source": [
    "# check if the movie 'Ace Ventura' is in the dictionary we've just created\n",
    "# if yes, print the rating, if not, write an appropriate message.\n",
    "# ________"
   ]
  },
  {
   "cell_type": "markdown",
   "metadata": {
    "id": "5a8KSelfILiE"
   },
   "source": [
    "### Using `zip()` to create a dictionary from lists"
   ]
  },
  {
   "cell_type": "code",
   "execution_count": null,
   "metadata": {
    "id": "6W5-RpwfILiE"
   },
   "outputs": [],
   "source": [
    "titles = ['Toy Story',\n",
    "          'Jumanji',\n",
    "          'Grumpier Old Men',\n",
    "          'Waiting to Exhale']\n",
    "ratings = [4.0, 4.0, 4.0, 5.0]"
   ]
  },
  {
   "cell_type": "code",
   "execution_count": null,
   "metadata": {
    "id": "_PojN_MzILiF"
   },
   "outputs": [],
   "source": [
    "# Complete the following line to create a dictionary\n",
    "# with movie titles as the keys and their corresponding ratings a the values\n",
    "movie_ratings = {__________:__________ for (key,value) in zip(__________, __________)}\n",
    "movie_ratings"
   ]
  },
  {
   "cell_type": "markdown",
   "metadata": {
    "id": "hnSodhA4ILiF"
   },
   "source": [
    "### Looping over dictionary using `.items()`"
   ]
  },
  {
   "cell_type": "markdown",
   "metadata": {
    "id": "NVlbdKeqILiF"
   },
   "source": [
    "<u>Complete the following to print all the dictionary contents</u>"
   ]
  },
  {
   "cell_type": "code",
   "execution_count": null,
   "metadata": {
    "id": "DX3ZJ6BPILiF"
   },
   "outputs": [],
   "source": [
    "for key, value in movie_ratings.items():\n",
    "    print(________ + ' has a rating of ' + _________)"
   ]
  },
  {
   "cell_type": "markdown",
   "metadata": {
    "id": "9V2FilMnILiF"
   },
   "source": [
    "<u>`.ìtems()`can also be used to filter a dictionary based on some conditions.\n",
    "\n",
    "Run the cell below.</u>"
   ]
  },
  {
   "cell_type": "code",
   "execution_count": null,
   "metadata": {
    "id": "FYHLs1LrILiF"
   },
   "outputs": [],
   "source": [
    "[title for title,rating in movie_ratings.items() if rating==5]"
   ]
  },
  {
   "cell_type": "markdown",
   "metadata": {
    "id": "rb-a2sTyILiF"
   },
   "source": [
    "### Adding an item"
   ]
  },
  {
   "cell_type": "markdown",
   "metadata": {
    "id": "MWZmrM-zILiG"
   },
   "source": [
    "<u>Add by using `movie_ratings[key] = value`, the movie 'Heat' with rating 4.0</u>"
   ]
  },
  {
   "cell_type": "code",
   "execution_count": null,
   "metadata": {
    "id": "ilUYLdKbILiG"
   },
   "outputs": [],
   "source": [
    "_________\n",
    "\n",
    "movie_ratings"
   ]
  },
  {
   "cell_type": "markdown",
   "metadata": {
    "id": "rK-VKd8aILiG"
   },
   "source": [
    "### Removing an item"
   ]
  },
  {
   "cell_type": "markdown",
   "metadata": {
    "id": "FCHYv7YPILiG"
   },
   "source": [
    "<u>Using `del`, you can remove a dictionary entry using the key.</u>"
   ]
  },
  {
   "cell_type": "code",
   "execution_count": null,
   "metadata": {
    "id": "Jq6ck1OxILiG"
   },
   "outputs": [],
   "source": [
    "# Complete the following to remove the entry \"Heat\" that you've just added\n",
    "del movie_ratings[_______]\n",
    "print(movie_ratings)"
   ]
  },
  {
   "cell_type": "markdown",
   "metadata": {
    "id": "qVdFY6xbILiG"
   },
   "source": [
    "<u> Use `.items()` and `del` to remove movies with rating less than 5.</u>"
   ]
  },
  {
   "cell_type": "code",
   "execution_count": null,
   "metadata": {
    "id": "KmSQ4FBcILiG"
   },
   "outputs": [],
   "source": [
    "to_remove = [_________ if _____]\n",
    "\n",
    "for _____ in to_remove:\n",
    "    ___________\n",
    "\n",
    "movie_ratings"
   ]
  },
  {
   "cell_type": "markdown",
   "metadata": {
    "id": "v5fxCetdILiH"
   },
   "source": [
    "### Dictionaries in a dictionary"
   ]
  },
  {
   "cell_type": "code",
   "execution_count": null,
   "metadata": {
    "id": "z02NDY-dILiH"
   },
   "outputs": [],
   "source": [
    "titles = ['Toy Story',\n",
    "          'Jumanji',\n",
    "          'Grumpier Old Men',\n",
    "          'Waiting to Exhale']\n",
    "ratings = [4.0, 4.0, 4.0, 5.0]\n",
    "genres = ['Animation', 'Adventure', 'Comedy', 'Comedy', 'Comedy']"
   ]
  },
  {
   "cell_type": "markdown",
   "metadata": {
    "id": "W963E073ILiH"
   },
   "source": [
    "<u>Expand the following to include all 4 titles using the information above.</u>"
   ]
  },
  {
   "cell_type": "code",
   "execution_count": null,
   "metadata": {
    "scrolled": false,
    "id": "mXD4S-EjILiH"
   },
   "outputs": [],
   "source": [
    "movie_ratings_extended = {'Toy Story':{'rating':4.0, 'genre':'Animation'},\n",
    "                          ______________\n",
    "                         }"
   ]
  },
  {
   "cell_type": "markdown",
   "metadata": {
    "id": "cz-x6Id-ILiH"
   },
   "source": [
    "<u>Like nested list, use double square bracket to get the sub-dictionary value.</u>"
   ]
  },
  {
   "cell_type": "code",
   "execution_count": null,
   "metadata": {
    "id": "DarNiwtDILiH"
   },
   "outputs": [],
   "source": [
    "# Print out the genre of Jumanji\n",
    "# use movie_ratings_extended[key_parent][key_sub]\n",
    "_____________"
   ]
  }
 ],
 "metadata": {
  "kernelspec": {
   "display_name": "Python 3 (ipykernel)",
   "language": "python",
   "name": "python3"
  },
  "language_info": {
   "codemirror_mode": {
    "name": "ipython",
    "version": 3
   },
   "file_extension": ".py",
   "mimetype": "text/x-python",
   "name": "python",
   "nbconvert_exporter": "python",
   "pygments_lexer": "ipython3",
   "version": "3.9.7"
  },
  "toc": {
   "base_numbering": 1,
   "nav_menu": {},
   "number_sections": true,
   "sideBar": true,
   "skip_h1_title": true,
   "title_cell": "Table of Contents",
   "title_sidebar": "Contents",
   "toc_cell": false,
   "toc_position": {
    "height": "calc(100% - 180px)",
    "left": "10px",
    "top": "150px",
    "width": "251px"
   },
   "toc_section_display": true,
   "toc_window_display": true
  },
  "colab": {
   "provenance": []
  }
 },
 "nbformat": 4,
 "nbformat_minor": 0
}
