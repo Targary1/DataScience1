{
 "cells": [
  {
   "cell_type": "markdown",
   "metadata": {
    "id": "WijpgnFXYROT"
   },
   "source": [
    "# Data Science I Topic 1a - Python Basic"
   ]
  },
  {
   "cell_type": "markdown",
   "metadata": {
    "id": "SpUCpUBsYROl"
   },
   "source": [
    "## Hello Python!"
   ]
  },
  {
   "cell_type": "markdown",
   "metadata": {
    "id": "KwX3YRVYYROo"
   },
   "source": [
    "**Jupyter Notebook Tips**\n",
    "\n",
    "Only if editing with Colab, [Ctrl+M] is needed and Esc to get out of the cell is usually not necessary. For Mac, replace Ctrl with Cmd: <br>\n",
    "* (Esc) [Ctrl+M] A to insert cell above\n",
    "* (Esc) [Ctrl+M] B to insert cell below\n",
    "* (Esc) DD to delete selected cell - Colab:  [Ctrl+M] D\n",
    "* Enter to enter edit mode\n",
    "* Ctrl-Enter to run cell\n",
    "* Shift-Enter to run cell+select below\n",
    "* Alt-Enter to run cell+insert below\n",
    "* (Esc) [Ctrl+M] Y to change the cell to Code\n",
    "* (Esc) [Ctrl+M] M to change the cell to Markdown\n",
    "\n",
    "\n",
    "<u>Try out the instructions below, run the cells and inspect the results.</u>"
   ]
  },
  {
   "cell_type": "code",
   "execution_count": 1,
   "metadata": {
    "ExecuteTime": {
     "end_time": "2024-05-14T18:05:28.111135Z",
     "start_time": "2024-05-14T18:05:28.100323Z"
    },
    "id": "W9hAOZKOYROs"
   },
   "outputs": [
    {
     "name": "stdout",
     "output_type": "stream",
     "text": [
      "Luc\n"
     ]
    }
   ],
   "source": [
    "# Try print('[yourname]') here\n",
    "print('Luc')\n"
   ]
  },
  {
   "cell_type": "markdown",
   "metadata": {
    "id": "cr7bnGUJYROy"
   },
   "source": [
    "## Variables"
   ]
  },
  {
   "cell_type": "markdown",
   "metadata": {
    "id": "VshP9W5wYRO0"
   },
   "source": [
    "<u>Run the cells below.</u>"
   ]
  },
  {
   "cell_type": "code",
   "execution_count": 1,
   "metadata": {
    "id": "FO9u5k1IYRO2"
   },
   "outputs": [
    {
     "data": {
      "text/plain": [
       "int"
      ]
     },
     "execution_count": 1,
     "metadata": {},
     "output_type": "execute_result"
    }
   ],
   "source": [
    "x = 1000\n",
    "type(x)"
   ]
  },
  {
   "cell_type": "markdown",
   "metadata": {
    "id": "oQZAegKLYRO5"
   },
   "source": [
    "<u>Be careful with \".\" and \",\"</u>"
   ]
  },
  {
   "cell_type": "code",
   "execution_count": 2,
   "metadata": {
    "id": "Ls2jbn4MYRO7"
   },
   "outputs": [
    {
     "data": {
      "text/plain": [
       "float"
      ]
     },
     "execution_count": 2,
     "metadata": {},
     "output_type": "execute_result"
    }
   ],
   "source": [
    "y = 1.5\n",
    "type(y)"
   ]
  },
  {
   "cell_type": "code",
   "execution_count": 3,
   "metadata": {
    "id": "Z5kYiZxoYRO9"
   },
   "outputs": [
    {
     "data": {
      "text/plain": [
       "tuple"
      ]
     },
     "execution_count": 3,
     "metadata": {},
     "output_type": "execute_result"
    }
   ],
   "source": [
    "z = 1,5\n",
    "type(z)"
   ]
  },
  {
   "cell_type": "code",
   "execution_count": 4,
   "metadata": {
    "id": "c6tcREjAYRO_"
   },
   "outputs": [
    {
     "data": {
      "text/plain": [
       "bool"
      ]
     },
     "execution_count": 4,
     "metadata": {},
     "output_type": "execute_result"
    }
   ],
   "source": [
    "upgrade = False\n",
    "type(upgrade)"
   ]
  },
  {
   "cell_type": "code",
   "execution_count": 5,
   "metadata": {
    "id": "uAzsP39sYRPB",
    "scrolled": true
   },
   "outputs": [
    {
     "data": {
      "text/plain": [
       "str"
      ]
     },
     "execution_count": 5,
     "metadata": {},
     "output_type": "execute_result"
    }
   ],
   "source": [
    "message = 'Yes'\n",
    "type(message)"
   ]
  },
  {
   "cell_type": "markdown",
   "metadata": {
    "id": "eJrbWS-0YRPD"
   },
   "source": [
    "## Arithmetic operations"
   ]
  },
  {
   "cell_type": "code",
   "execution_count": null,
   "metadata": {
    "id": "qN1VEiFjYRPE"
   },
   "outputs": [],
   "source": [
    "# Try addition, subtraction, multiplication, division\n",
    "__________"
   ]
  },
  {
   "cell_type": "code",
   "execution_count": null,
   "metadata": {
    "id": "bu_nKkRfYRPG"
   },
   "outputs": [],
   "source": [
    "# Try exponentiation with ** operator\n",
    "# (Note that ^ in Python is bitwise XOR)\n",
    "__________"
   ]
  },
  {
   "cell_type": "code",
   "execution_count": 6,
   "metadata": {
    "id": "5JOYEXE5YRPI"
   },
   "outputs": [
    {
     "data": {
      "text/plain": [
       "1"
      ]
     },
     "execution_count": 6,
     "metadata": {},
     "output_type": "execute_result"
    }
   ],
   "source": [
    "# Try Modulo with % operator\n",
    "# a mod b = r, where a dividend, b divisor/modulus, and r remainder\n",
    "# e.g. 1 mod 2 = 1\n",
    "1 % 2"
   ]
  },
  {
   "cell_type": "markdown",
   "metadata": {
    "id": "TO3jvQ2bYRPK"
   },
   "source": [
    "## Comparison operators"
   ]
  },
  {
   "cell_type": "markdown",
   "metadata": {
    "id": "4VoTf1AhYRPL"
   },
   "source": [
    "### Equality"
   ]
  },
  {
   "cell_type": "markdown",
   "metadata": {
    "id": "238AOcZdYRPM"
   },
   "source": [
    "<u>Run the cells below and inspect the results.</u>"
   ]
  },
  {
   "cell_type": "code",
   "execution_count": 7,
   "metadata": {
    "id": "6Hi6pn0bYRPN"
   },
   "outputs": [
    {
     "name": "stdout",
     "output_type": "stream",
     "text": [
      "False\n"
     ]
    }
   ],
   "source": [
    "# Comparison of booleans\n",
    "print(True == False)"
   ]
  },
  {
   "cell_type": "code",
   "execution_count": 8,
   "metadata": {
    "id": "dxLiM0tKYRPO"
   },
   "outputs": [
    {
     "name": "stdout",
     "output_type": "stream",
     "text": [
      "True\n"
     ]
    }
   ],
   "source": [
    "# Comparison of integers\n",
    "print((-5*5)!=25)"
   ]
  },
  {
   "cell_type": "code",
   "execution_count": 9,
   "metadata": {
    "id": "B2u0idPkYRPP"
   },
   "outputs": [
    {
     "name": "stdout",
     "output_type": "stream",
     "text": [
      "False\n"
     ]
    }
   ],
   "source": [
    "# Comparison of strings\n",
    "print('name'=='Name')"
   ]
  },
  {
   "cell_type": "code",
   "execution_count": 10,
   "metadata": {
    "id": "byN3vxiDYRPQ"
   },
   "outputs": [
    {
     "name": "stdout",
     "output_type": "stream",
     "text": [
      "True\n",
      "True\n"
     ]
    }
   ],
   "source": [
    "# Compare a boolean with an integer\n",
    "print(True==1)\n",
    "print(False==0)"
   ]
  },
  {
   "cell_type": "markdown",
   "metadata": {
    "id": "g2U0movnYRPR"
   },
   "source": [
    "### Greater and less than"
   ]
  },
  {
   "cell_type": "markdown",
   "metadata": {
    "id": "fzWnUErmYRPS"
   },
   "source": [
    "<u>Run the cells and inspect the results</u>"
   ]
  },
  {
   "cell_type": "code",
   "execution_count": 11,
   "metadata": {
    "id": "QXkFybREYRPT"
   },
   "outputs": [
    {
     "name": "stdout",
     "output_type": "stream",
     "text": [
      "True\n",
      "False\n"
     ]
    }
   ],
   "source": [
    "# Comparison of integers\n",
    "x = (-3)**2\n",
    "print(x >= 8)\n",
    "\n",
    "x = -3**2\n",
    "print(x >= 8)\n",
    "\n",
    "# parentheses matter!"
   ]
  },
  {
   "cell_type": "code",
   "execution_count": 12,
   "metadata": {
    "id": "r3Uog84fYRPU"
   },
   "outputs": [
    {
     "name": "stdout",
     "output_type": "stream",
     "text": [
      "True\n",
      "True\n"
     ]
    }
   ],
   "source": [
    "# Comparison of strings\n",
    "print('name'>'nam')\n",
    "print('name'>'Name')"
   ]
  },
  {
   "cell_type": "code",
   "execution_count": 13,
   "metadata": {
    "id": "QFsyRCfiYRPV"
   },
   "outputs": [
    {
     "name": "stdout",
     "output_type": "stream",
     "text": [
      "True\n"
     ]
    }
   ],
   "source": [
    "# Comparison of booleans\n",
    "print(True > False)"
   ]
  },
  {
   "cell_type": "markdown",
   "metadata": {
    "id": "Lnl0KyRnYRPW"
   },
   "source": [
    "## Boolean operators"
   ]
  },
  {
   "cell_type": "markdown",
   "metadata": {
    "id": "IaBYzpfMYRPX"
   },
   "source": [
    "### and, or, not"
   ]
  },
  {
   "cell_type": "markdown",
   "metadata": {
    "id": "atuhxRoeYRPX"
   },
   "source": [
    "<u>Run the cells and inspect the results</u>"
   ]
  },
  {
   "cell_type": "code",
   "execution_count": 17,
   "metadata": {
    "ExecuteTime": {
     "end_time": "2024-05-01T12:52:51.253027Z",
     "start_time": "2024-05-01T12:52:51.248592Z"
    },
    "id": "HaGCwecWYRPY"
   },
   "outputs": [
    {
     "name": "stdout",
     "output_type": "stream",
     "text": [
      "True\n",
      "False\n",
      "True\n"
     ]
    },
    {
     "data": {
      "text/plain": [
       "'test'"
      ]
     },
     "execution_count": 17,
     "metadata": {},
     "output_type": "execute_result"
    }
   ],
   "source": [
    "a = 17\n",
    "b = 15\n",
    "\n",
    "print(a>13 and b>13)\n",
    "print(a>13 & b>13)\n",
    "print((a>13) & (b>13))\n",
    "\"test\""
   ]
  },
  {
   "cell_type": "markdown",
   "metadata": {
    "collapsed": false,
    "jupyter": {
     "outputs_hidden": false
    }
   },
   "source": []
  },
  {
   "cell_type": "code",
   "execution_count": 4,
   "metadata": {
    "ExecuteTime": {
     "end_time": "2024-05-01T12:57:52.989960Z",
     "start_time": "2024-05-01T12:57:52.986393Z"
    },
    "id": "9HNILEK1YRPZ"
   },
   "outputs": [
    {
     "name": "stdout",
     "output_type": "stream",
     "text": [
      "True\n",
      "False\n",
      "True\n"
     ]
    }
   ],
   "source": [
    "print(a>13 or b>13)\n",
    "print(a>13 | b>13)\n",
    "print((a>13) | (b>13))"
   ]
  },
  {
   "cell_type": "code",
   "execution_count": null,
   "metadata": {
    "id": "lJUOnlXZYRPa"
   },
   "outputs": [],
   "source": [
    "print(not(a!=13.0))"
   ]
  },
  {
   "cell_type": "markdown",
   "metadata": {
    "id": "Xhf_UiQ4YRPb"
   },
   "source": [
    "<u>Can you find out why \"a>13 & b>13\" and \"(a>13) & (b>13)\" gave different results? likewise with the operator \"|\".<u/>"
   ]
  },
  {
   "cell_type": "markdown",
   "metadata": {
    "id": "SMZU0SLRYRPb"
   },
   "source": [
    "**Ans**: .."
   ]
  },
  {
   "cell_type": "markdown",
   "metadata": {
    "id": "5gByUSvHYRPc"
   },
   "source": [
    "<u>Check if either a or b is an odd number.</u>"
   ]
  },
  {
   "cell_type": "code",
   "execution_count": 18,
   "metadata": {
    "id": "CAu-AZtsYRPd"
   },
   "outputs": [
    {
     "name": "stdout",
     "output_type": "stream",
     "text": [
      "a is odd\n"
     ]
    }
   ],
   "source": [
    "if a % 2 != 0:\n",
    "    print(f'a is odd')\n",
    "\n",
    "elif b % 2 != 0:\n",
    "    print(\"b is odd\")\n",
    "    "
   ]
  },
  {
   "cell_type": "markdown",
   "metadata": {
    "id": "vosR3fYCYRPe"
   },
   "source": [
    "## String concatenation"
   ]
  },
  {
   "cell_type": "markdown",
   "metadata": {
    "id": "3VTU5TucYRPe"
   },
   "source": [
    "<u>Run the cells</u>"
   ]
  },
  {
   "cell_type": "code",
   "execution_count": 20,
   "metadata": {
    "id": "oI9_1YuyYRPf"
   },
   "outputs": [
    {
     "name": "stdout",
     "output_type": "stream",
     "text": [
      "I started with 500 Eur in my savings. Somehow I could grow my savings by 0.1 times every month.\n"
     ]
    }
   ],
   "source": [
    "x = 500\n",
    "y = 0.1\n",
    "print('I started with ' + str(x) + ' Eur in my savings.'\\\n",
    "       +' Somehow I could grow my savings by '+ str(y) + ' times'\\\n",
    "       +' every month.' )"
   ]
  },
  {
   "cell_type": "markdown",
   "metadata": {
    "id": "HDJk4uxXYRPg"
   },
   "source": [
    "<u>Here we cast an integer to a string using str(), and concatenate series of strings by using '+' operator.\n",
    "\n",
    "Notice the \\ to continue in a new line.</u>"
   ]
  },
  {
   "cell_type": "markdown",
   "metadata": {
    "id": "yhmNMisfYRPh"
   },
   "source": [
    "### Using `.format()`"
   ]
  },
  {
   "cell_type": "code",
   "execution_count": 21,
   "metadata": {
    "id": "QKC_F0r-YRPh"
   },
   "outputs": [
    {
     "name": "stdout",
     "output_type": "stream",
     "text": [
      "I started with 500 Eur in my savings. Somehow I could grow my savings by 0.1 times every month.\n"
     ]
    }
   ],
   "source": [
    "print('I started with {} Eur in my savings. Somehow I could grow my savings by {} times every month.'.format(x,y) )"
   ]
  },
  {
   "cell_type": "markdown",
   "metadata": {
    "id": "A1Pbl3ZLYRPi"
   },
   "source": [
    "<u>Continue the sentence, \"After 12 months, I will have ... in my bank account.\"</u>"
   ]
  },
  {
   "cell_type": "code",
   "execution_count": 4,
   "metadata": {
    "id": "-ELM1J9BYRPj",
    "ExecuteTime": {
     "end_time": "2024-05-14T18:18:48.196305Z",
     "start_time": "2024-05-14T18:18:48.193131Z"
    }
   },
   "outputs": [
    {
     "name": "stdout",
     "output_type": "stream",
     "text": [
      "After 12 months, I was able to gain 63 € in total\n"
     ]
    }
   ],
   "source": [
    "# calculate your saving after 12 months\n",
    "z = 500 * 1.01**12\n",
    "print(f'After 12 months, I was able to gain {round(z-500)} € in total')\n"
   ]
  },
  {
   "cell_type": "markdown",
   "metadata": {
    "id": "FSQdK3wnYRPk"
   },
   "source": [
    "## If-elif-else"
   ]
  },
  {
   "cell_type": "markdown",
   "metadata": {
    "id": "7SWZkAugYRPk"
   },
   "source": [
    "<u>You've seen the example of using If-elif-else in the lecture.\n",
    "    \n",
    "Try it: use `z` value above.\n",
    "If `z`>1600, print \"Definitely\". If `z` is between 1200 and 1600, print \"Maybe..\", and if `z` is below 1200, print \"Let's wait a couple more months\"."
   ]
  },
  {
   "cell_type": "code",
   "execution_count": null,
   "metadata": {
    "id": "CFLWcx-cYRPl"
   },
   "outputs": [],
   "source": [
    "print('Should I upgrade my PC?\\n')\n",
    "\n",
    "___________"
   ]
  },
  {
   "cell_type": "markdown",
   "metadata": {
    "id": "MMIAOFygYRPm"
   },
   "source": [
    "## Loop"
   ]
  },
  {
   "cell_type": "markdown",
   "metadata": {
    "id": "hi70J2-cYRPn"
   },
   "source": [
    "### While Loop"
   ]
  },
  {
   "cell_type": "markdown",
   "metadata": {
    "id": "dOLZtb-0YRPo"
   },
   "source": [
    "<u>Produce a multiplication table of 7, from 1 to 5</u>\n",
    "    \n",
    "1 x 7 = 7 <br>\n",
    "...<br>\n",
    "5 x 7 = 35\n",
    "\n",
    "<u>using while loop and .format() in the string.</u>"
   ]
  },
  {
   "cell_type": "code",
   "execution_count": 5,
   "metadata": {
    "id": "Gm8Hr8SIYRPp",
    "ExecuteTime": {
     "end_time": "2024-05-14T18:21:44.787409Z",
     "start_time": "2024-05-14T18:21:44.779393Z"
    }
   },
   "outputs": [
    {
     "name": "stdout",
     "output_type": "stream",
     "text": [
      "1 x 7 = 7\n",
      "2 x 7 = 14\n",
      "3 x 7 = 21\n",
      "4 x 7 = 28\n",
      "5 x 7 = 35\n"
     ]
    }
   ],
   "source": [
    "x = 1\n",
    "while x <= 5:\n",
    "    print(f'{x} x 7 = {x*7}')\n",
    "    x += 1"
   ]
  },
  {
   "cell_type": "markdown",
   "metadata": {
    "id": "mS04Bp_yYRPq"
   },
   "source": [
    "### For loop"
   ]
  },
  {
   "cell_type": "markdown",
   "metadata": {
    "id": "si9YOAVJYRPq"
   },
   "source": [
    "<u>The same question (a multiplication table of 7, from 1 to 5), but with for loop.</u>"
   ]
  },
  {
   "cell_type": "code",
   "execution_count": 6,
   "metadata": {
    "id": "UVaSXvkuYRPr",
    "scrolled": true,
    "ExecuteTime": {
     "end_time": "2024-05-14T18:22:33.885422Z",
     "start_time": "2024-05-14T18:22:33.862898Z"
    }
   },
   "outputs": [
    {
     "name": "stdout",
     "output_type": "stream",
     "text": [
      "1 x 7 = 7\n",
      "2 x 7 = 14\n",
      "3 x 7 = 21\n",
      "4 x 7 = 28\n",
      "5 x 7 = 35\n"
     ]
    }
   ],
   "source": [
    "for x in [1, 2, 3, 4, 5]:\n",
    "    print(f'{x} x 7 = {x*7}')"
   ]
  },
  {
   "cell_type": "code",
   "execution_count": null,
   "outputs": [],
   "source": [],
   "metadata": {
    "collapsed": false
   }
  }
 ],
 "metadata": {
  "colab": {
   "provenance": []
  },
  "kernelspec": {
   "display_name": "Python 3 (ipykernel)",
   "language": "python",
   "name": "python3"
  },
  "language_info": {
   "codemirror_mode": {
    "name": "ipython",
    "version": 3
   },
   "file_extension": ".py",
   "mimetype": "text/x-python",
   "name": "python",
   "nbconvert_exporter": "python",
   "pygments_lexer": "ipython3",
   "version": "3.11.3"
  },
  "toc": {
   "base_numbering": 1,
   "nav_menu": {},
   "number_sections": true,
   "sideBar": true,
   "skip_h1_title": true,
   "title_cell": "Table of Contents",
   "title_sidebar": "Contents",
   "toc_cell": false,
   "toc_position": {
    "height": "calc(100% - 180px)",
    "left": "10px",
    "top": "150px",
    "width": "323px"
   },
   "toc_section_display": true,
   "toc_window_display": true
  }
 },
 "nbformat": 4,
 "nbformat_minor": 4
}
