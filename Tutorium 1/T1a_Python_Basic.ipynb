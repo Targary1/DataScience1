{
 "cells": [
  {
   "cell_type": "markdown",
   "metadata": {
    "id": "WijpgnFXYROT"
   },
   "source": [
    "# Data Science I Topic 1a - Python Basic"
   ]
  },
  {
   "cell_type": "markdown",
   "metadata": {
    "id": "SpUCpUBsYROl"
   },
   "source": [
    "## Hello Python!"
   ]
  },
  {
   "cell_type": "markdown",
   "metadata": {
    "id": "KwX3YRVYYROo"
   },
   "source": [
    "**Jupyter Notebook Tips**\n",
    "\n",
    "Only if editing with Colab, [Ctrl+M] is needed and Esc to get out of the cell is usually not necessary. For Mac, replace Ctrl with Cmd: <br>\n",
    "* (Esc) [Ctrl+M] A to insert cell above\n",
    "* (Esc) [Ctrl+M] B to insert cell below\n",
    "* (Esc) DD to delete selected cell - Colab:  [Ctrl+M] D\n",
    "* Enter to enter edit mode\n",
    "* Ctrl-Enter to run cell\n",
    "* Shift-Enter to run cell+select below\n",
    "* Alt-Enter to run cell+insert below\n",
    "* (Esc) [Ctrl+M] Y to change the cell to Code\n",
    "* (Esc) [Ctrl+M] M to change the cell to Markdown\n",
    "\n",
    "\n",
    "<u>Try out the instructions below, run the cells and inspect the results.</u>"
   ]
  },
  {
   "cell_type": "code",
   "execution_count": null,
   "metadata": {
    "id": "W9hAOZKOYROs"
   },
   "outputs": [],
   "source": [
    "# Try print('[yourname]') here\n",
    "print('________')"
   ]
  },
  {
   "cell_type": "markdown",
   "metadata": {
    "id": "cr7bnGUJYROy"
   },
   "source": [
    "## Variables"
   ]
  },
  {
   "cell_type": "markdown",
   "metadata": {
    "id": "VshP9W5wYRO0"
   },
   "source": [
    "<u>Run the cells below.</u>"
   ]
  },
  {
   "cell_type": "code",
   "execution_count": null,
   "metadata": {
    "id": "FO9u5k1IYRO2"
   },
   "outputs": [],
   "source": [
    "x = 1000\n",
    "type(x)"
   ]
  },
  {
   "cell_type": "markdown",
   "metadata": {
    "id": "oQZAegKLYRO5"
   },
   "source": [
    "<u>Be careful with \".\" and \",\"</u>"
   ]
  },
  {
   "cell_type": "code",
   "execution_count": null,
   "metadata": {
    "id": "Ls2jbn4MYRO7"
   },
   "outputs": [],
   "source": [
    "y = 1.5\n",
    "type(y)"
   ]
  },
  {
   "cell_type": "code",
   "execution_count": null,
   "metadata": {
    "id": "Z5kYiZxoYRO9"
   },
   "outputs": [],
   "source": [
    "z = 1,5\n",
    "type(z)"
   ]
  },
  {
   "cell_type": "code",
   "execution_count": null,
   "metadata": {
    "id": "c6tcREjAYRO_"
   },
   "outputs": [],
   "source": [
    "upgrade = False\n",
    "type(upgrade)"
   ]
  },
  {
   "cell_type": "code",
   "execution_count": null,
   "metadata": {
    "scrolled": true,
    "id": "uAzsP39sYRPB"
   },
   "outputs": [],
   "source": [
    "message = 'Yes'\n",
    "type(message)"
   ]
  },
  {
   "cell_type": "markdown",
   "metadata": {
    "id": "eJrbWS-0YRPD"
   },
   "source": [
    "## Arithmetic operations"
   ]
  },
  {
   "cell_type": "code",
   "execution_count": null,
   "metadata": {
    "id": "qN1VEiFjYRPE"
   },
   "outputs": [],
   "source": [
    "# Try addition, subtraction, multiplication, division\n",
    "__________"
   ]
  },
  {
   "cell_type": "code",
   "execution_count": null,
   "metadata": {
    "id": "bu_nKkRfYRPG"
   },
   "outputs": [],
   "source": [
    "# Try exponentiation with ** operator\n",
    "# (Note that ^ in Python is bitwise XOR)\n",
    "__________"
   ]
  },
  {
   "cell_type": "code",
   "execution_count": null,
   "metadata": {
    "id": "5JOYEXE5YRPI"
   },
   "outputs": [],
   "source": [
    "# Try Modulo with % operator\n",
    "# a mod b = r, where a dividend, b divisor/modulus, and r remainder\n",
    "# e.g. 1 mod 2 = 1\n",
    "__________"
   ]
  },
  {
   "cell_type": "markdown",
   "metadata": {
    "id": "TO3jvQ2bYRPK"
   },
   "source": [
    "## Comparison operators"
   ]
  },
  {
   "cell_type": "markdown",
   "metadata": {
    "id": "4VoTf1AhYRPL"
   },
   "source": [
    "### Equality"
   ]
  },
  {
   "cell_type": "markdown",
   "metadata": {
    "id": "238AOcZdYRPM"
   },
   "source": [
    "<u>Run the cells below and inspect the results.</u>"
   ]
  },
  {
   "cell_type": "code",
   "execution_count": null,
   "metadata": {
    "id": "6Hi6pn0bYRPN"
   },
   "outputs": [],
   "source": [
    "# Comparison of booleans\n",
    "print(True == False)"
   ]
  },
  {
   "cell_type": "code",
   "execution_count": null,
   "metadata": {
    "id": "dxLiM0tKYRPO"
   },
   "outputs": [],
   "source": [
    "# Comparison of integers\n",
    "print((-5*5)!=25)"
   ]
  },
  {
   "cell_type": "code",
   "execution_count": null,
   "metadata": {
    "id": "B2u0idPkYRPP"
   },
   "outputs": [],
   "source": [
    "# Comparison of strings\n",
    "print('name'=='Name')"
   ]
  },
  {
   "cell_type": "code",
   "execution_count": null,
   "metadata": {
    "id": "byN3vxiDYRPQ"
   },
   "outputs": [],
   "source": [
    "# Compare a boolean with an integer\n",
    "print(True==1)\n",
    "print(False==0)"
   ]
  },
  {
   "cell_type": "markdown",
   "metadata": {
    "id": "g2U0movnYRPR"
   },
   "source": [
    "### Greater and less than"
   ]
  },
  {
   "cell_type": "markdown",
   "metadata": {
    "id": "fzWnUErmYRPS"
   },
   "source": [
    "<u>Run the cells and inspect the results</u>"
   ]
  },
  {
   "cell_type": "code",
   "execution_count": null,
   "metadata": {
    "id": "QXkFybREYRPT"
   },
   "outputs": [],
   "source": [
    "# Comparison of integers\n",
    "x = (-3)**2\n",
    "print(x >= 8)\n",
    "\n",
    "x = -3**2\n",
    "print(x >= 8)\n",
    "\n",
    "# parentheses matter!"
   ]
  },
  {
   "cell_type": "code",
   "execution_count": null,
   "metadata": {
    "id": "r3Uog84fYRPU"
   },
   "outputs": [],
   "source": [
    "# Comparison of strings\n",
    "print('name'>'nam')\n",
    "print('name'>'Name')"
   ]
  },
  {
   "cell_type": "code",
   "execution_count": null,
   "metadata": {
    "id": "QFsyRCfiYRPV"
   },
   "outputs": [],
   "source": [
    "# Comparison of booleans\n",
    "print(True > False)"
   ]
  },
  {
   "cell_type": "markdown",
   "metadata": {
    "id": "Lnl0KyRnYRPW"
   },
   "source": [
    "## Boolean operators"
   ]
  },
  {
   "cell_type": "markdown",
   "metadata": {
    "id": "IaBYzpfMYRPX"
   },
   "source": [
    "### and, or, not"
   ]
  },
  {
   "cell_type": "markdown",
   "metadata": {
    "id": "atuhxRoeYRPX"
   },
   "source": [
    "<u>Run the cells and inspect the results</u>"
   ]
  },
  {
   "cell_type": "code",
   "execution_count": 2,
   "metadata": {
    "id": "HaGCwecWYRPY",
    "ExecuteTime": {
     "start_time": "2024-05-01T12:52:51.248592Z",
     "end_time": "2024-05-01T12:52:51.253027Z"
    }
   },
   "outputs": [
    {
     "name": "stdout",
     "output_type": "stream",
     "text": [
      "True\n",
      "False\n",
      "True\n"
     ]
    }
   ],
   "source": [
    "a = 14\n",
    "b = 15\n",
    "\n",
    "print(a>13 and b>13)\n",
    "print(a>13 & b>13)\n",
    "print((a>13) & (b>13))\n",
    "\"test\""
   ]
  },
  {
   "cell_type": "markdown",
   "source": [],
   "metadata": {
    "collapsed": false
   }
  },
  {
   "cell_type": "code",
   "execution_count": 4,
   "metadata": {
    "id": "9HNILEK1YRPZ",
    "ExecuteTime": {
     "start_time": "2024-05-01T12:57:52.986393Z",
     "end_time": "2024-05-01T12:57:52.989960Z"
    }
   },
   "outputs": [
    {
     "name": "stdout",
     "output_type": "stream",
     "text": [
      "True\n",
      "False\n",
      "True\n"
     ]
    }
   ],
   "source": [
    "print(a>13 or b>13)\n",
    "print(a>13 | b>13)\n",
    "print((a>13) | (b>13))"
   ]
  },
  {
   "cell_type": "code",
   "execution_count": null,
   "metadata": {
    "id": "lJUOnlXZYRPa"
   },
   "outputs": [],
   "source": [
    "print(not(a!=13.0))"
   ]
  },
  {
   "cell_type": "markdown",
   "metadata": {
    "id": "Xhf_UiQ4YRPb"
   },
   "source": [
    "<u>Can you find out why \"a>13 & b>13\" and \"(a>13) & (b>13)\" gave different results? likewise with the operator \"|\".<u/>"
   ]
  },
  {
   "cell_type": "markdown",
   "metadata": {
    "id": "SMZU0SLRYRPb"
   },
   "source": [
    "**Ans**: .."
   ]
  },
  {
   "cell_type": "markdown",
   "metadata": {
    "id": "5gByUSvHYRPc"
   },
   "source": [
    "<u>Check if either a or b is an odd number.</u>"
   ]
  },
  {
   "cell_type": "code",
   "execution_count": null,
   "metadata": {
    "id": "CAu-AZtsYRPd"
   },
   "outputs": [],
   "source": [
    "_______________"
   ]
  },
  {
   "cell_type": "markdown",
   "metadata": {
    "id": "vosR3fYCYRPe"
   },
   "source": [
    "## String concatenation"
   ]
  },
  {
   "cell_type": "markdown",
   "metadata": {
    "id": "3VTU5TucYRPe"
   },
   "source": [
    "<u>Run the cells</u>"
   ]
  },
  {
   "cell_type": "code",
   "execution_count": null,
   "metadata": {
    "id": "oI9_1YuyYRPf"
   },
   "outputs": [],
   "source": [
    "x = 500\n",
    "y = 0.1\n",
    "print('I started with ' + str(x) + ' Eur in my savings.'\\\n",
    "       +' Somehow I could grow my savings by '+ str(y) + ' times'\\\n",
    "       +' every month.' )"
   ]
  },
  {
   "cell_type": "markdown",
   "metadata": {
    "id": "HDJk4uxXYRPg"
   },
   "source": [
    "<u>Here we cast an integer to a string using str(), and concatenate series of strings by using '+' operator.\n",
    "\n",
    "Notice the \\ to continue in a new line.</u>"
   ]
  },
  {
   "cell_type": "markdown",
   "metadata": {
    "id": "yhmNMisfYRPh"
   },
   "source": [
    "### Using `.format()`"
   ]
  },
  {
   "cell_type": "code",
   "execution_count": null,
   "metadata": {
    "id": "QKC_F0r-YRPh"
   },
   "outputs": [],
   "source": [
    "print('I started with {} Eur in my savings. Somehow I could grow my savings by {} times every month.'.format(x,y) )"
   ]
  },
  {
   "cell_type": "markdown",
   "metadata": {
    "id": "A1Pbl3ZLYRPi"
   },
   "source": [
    "<u>Continue the sentence, \"After 12 months, I will have ... in my bank account.\"</u>"
   ]
  },
  {
   "cell_type": "code",
   "execution_count": null,
   "metadata": {
    "id": "-ELM1J9BYRPj"
   },
   "outputs": [],
   "source": [
    "# calculate your saving after 12 months\n",
    "z = _____________\n",
    "print(_____________)"
   ]
  },
  {
   "cell_type": "markdown",
   "metadata": {
    "id": "FSQdK3wnYRPk"
   },
   "source": [
    "## If-elif-else"
   ]
  },
  {
   "cell_type": "markdown",
   "metadata": {
    "id": "7SWZkAugYRPk"
   },
   "source": [
    "<u>You've seen the example of using If-elif-else in the lecture.\n",
    "    \n",
    "Try it: use `z` value above.\n",
    "If `z`>1600, print \"Definitely\". If `z` is between 1200 and 1600, print \"Maybe..\", and if `z` is below 1200, print \"Let's wait a couple more months\"."
   ]
  },
  {
   "cell_type": "code",
   "execution_count": null,
   "metadata": {
    "id": "CFLWcx-cYRPl"
   },
   "outputs": [],
   "source": [
    "print('Should I upgrade my PC?\\n')\n",
    "\n",
    "___________"
   ]
  },
  {
   "cell_type": "markdown",
   "metadata": {
    "id": "MMIAOFygYRPm"
   },
   "source": [
    "## Loop"
   ]
  },
  {
   "cell_type": "markdown",
   "metadata": {
    "id": "hi70J2-cYRPn"
   },
   "source": [
    "### While Loop"
   ]
  },
  {
   "cell_type": "markdown",
   "metadata": {
    "id": "dOLZtb-0YRPo"
   },
   "source": [
    "<u>Produce a multiplication table of 7, from 1 to 5</u>\n",
    "    \n",
    "1 x 7 = 7 <br>\n",
    "...<br>\n",
    "5 x 7 = 35\n",
    "\n",
    "<u>using while loop and .format() in the string.</u>"
   ]
  },
  {
   "cell_type": "code",
   "execution_count": null,
   "metadata": {
    "id": "Gm8Hr8SIYRPp"
   },
   "outputs": [],
   "source": [
    "x = 1\n",
    "while ____ :\n",
    "    __________"
   ]
  },
  {
   "cell_type": "markdown",
   "metadata": {
    "id": "mS04Bp_yYRPq"
   },
   "source": [
    "### For loop"
   ]
  },
  {
   "cell_type": "markdown",
   "metadata": {
    "id": "si9YOAVJYRPq"
   },
   "source": [
    "<u>The same question (a multiplication table of 7, from 1 to 5), but with for loop.</u>"
   ]
  },
  {
   "cell_type": "code",
   "execution_count": null,
   "metadata": {
    "scrolled": true,
    "id": "UVaSXvkuYRPr"
   },
   "outputs": [],
   "source": [
    "__________"
   ]
  }
 ],
 "metadata": {
  "kernelspec": {
   "display_name": "Python 3 (ipykernel)",
   "language": "python",
   "name": "python3"
  },
  "language_info": {
   "codemirror_mode": {
    "name": "ipython",
    "version": 3
   },
   "file_extension": ".py",
   "mimetype": "text/x-python",
   "name": "python",
   "nbconvert_exporter": "python",
   "pygments_lexer": "ipython3",
   "version": "3.9.7"
  },
  "toc": {
   "base_numbering": 1,
   "nav_menu": {},
   "number_sections": true,
   "sideBar": true,
   "skip_h1_title": true,
   "title_cell": "Table of Contents",
   "title_sidebar": "Contents",
   "toc_cell": false,
   "toc_position": {
    "height": "calc(100% - 180px)",
    "left": "10px",
    "top": "150px",
    "width": "323px"
   },
   "toc_section_display": true,
   "toc_window_display": true
  },
  "colab": {
   "provenance": []
  }
 },
 "nbformat": 4,
 "nbformat_minor": 0
}
